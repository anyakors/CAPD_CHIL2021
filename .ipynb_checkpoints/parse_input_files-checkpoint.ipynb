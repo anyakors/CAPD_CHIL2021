{
 "cells": [
  {
   "cell_type": "code",
   "execution_count": 22,
   "metadata": {},
   "outputs": [],
   "source": [
    "import sys\n",
    "import os"
   ]
  },
  {
   "cell_type": "markdown",
   "metadata": {},
   "source": [
    "Parse 4 lines at a time; the first line is a gene and will become a key in a sample dictionary, and the seq acceptor and donor arrays will be data in the dict"
   ]
  },
  {
   "cell_type": "code",
   "execution_count": 23,
   "metadata": {},
   "outputs": [],
   "source": [
    "def process(lines=None):\n",
    "    key = lines[0][1:]\n",
    "    instance = {}\n",
    "    instance[key] = {}\n",
    "    instance[key]['seq'] = lines[1]\n",
    "    instance[key]['acceptor'] = lines[2]\n",
    "    instance[key]['donor'] = lines[3]\n",
    "    return instance\n",
    "\n",
    "n = 4"
   ]
  },
  {
   "cell_type": "markdown",
   "metadata": {},
   "source": [
    "Import all the files in the AML directory first and create a dictionary library_AML where keys will be sample names, and for each key there will be another dict inside with the genes and their seq, acceptors and donors"
   ]
  },
  {
   "cell_type": "code",
   "execution_count": 24,
   "metadata": {},
   "outputs": [],
   "source": [
    "path = './data/AML_library/'\n",
    "dirs = os.listdir(path)\n",
    "\n",
    "library_AML = {}\n",
    "\n",
    "for file in dirs:\n",
    "    if 'txt' in file:\n",
    "        lines = []\n",
    "        with open(path+file, 'r') as fh:\n",
    "            for line in fh:\n",
    "                lines.append(line.rstrip())\n",
    "        if len(lines)%n==0:\n",
    "            library_AML[file[:-4]] = {}\n",
    "            for i in range(len(lines)//4):\n",
    "                library_AML[file[:-4]].update(process(lines[i*4:i*4+4]))\n",
    "        else:\n",
    "            print(\"The file is incomplete\")"
   ]
  },
  {
   "cell_type": "code",
   "execution_count": 29,
   "metadata": {},
   "outputs": [
    {
     "name": "stdout",
     "output_type": "stream",
     "text": [
      "dict_keys(['seq', 'acceptor', 'donor'])\n"
     ]
    }
   ],
   "source": [
    "# example of access\n",
    "print(library_AML['AML1']['LARGE1'].keys())"
   ]
  },
  {
   "cell_type": "markdown",
   "metadata": {},
   "source": [
    "Same for random: create a dict library_rand with all the samples and genes and their info inside"
   ]
  },
  {
   "cell_type": "code",
   "execution_count": 26,
   "metadata": {},
   "outputs": [
    {
     "name": "stdout",
     "output_type": "stream",
     "text": [
      "dict_keys(['KIAA1671', 'LARGE1', 'CENPM', 'MICAL3', 'TXNRD2', 'AIFM3', 'RSPH14', 'CABIN1', 'SEZ6L', 'TTC28', 'AP1B1', 'RNF215', 'SEC14L2', 'DRG1', 'EIF4ENIF1', 'CACNG2', 'TRIOBP', 'ENTHD1', 'XPNPEP3', 'PACSIN2', 'PARVB', 'CECR2', 'SLC25A18', 'BCL2L13', 'PEX26', 'DGCR9', 'ESS2', 'CLTCL1', 'HIRA', 'C22orf39', 'GNB1L', 'TANGO2', 'DGCR6L', 'KLHL22', 'MED15', 'PI4KA', 'IGLV10-54', 'BCR', 'SPECC1L', 'SPECC1L-ADORA2A', 'UPB1', 'BCRP3', 'PIWIL3', 'SGSM1', 'GRK3', 'MYO18B', 'HPS4', 'MN1', 'PITPNB', 'CHEK2', 'ZNRF3', 'KREMEN1', 'EMID1', 'NF2', 'ZMAT5', 'MTMR3', 'HORMAD2', 'SEC14L6', 'OSBP2', 'MORC2', 'RNF185', 'PATZ1', 'SFI1', 'PRR14L', 'DEPDC5', 'SLC5A1', 'SLC5A4', 'RFPL3S', 'SYN3', 'HMGXB4', 'HMOX1', 'RBFOX2', 'MYH9', 'TMPRSS6', 'GGA1', 'EIF3L', 'POLR2F', 'PLA2G6', 'DMC1', 'CBY1', 'CACNA1I', 'TNRC6B', 'ADSL', 'MRTFA', 'EP300', 'SNU13', 'CCDC134', 'TCF20', 'POLDIP3', 'SCUBE1', 'EFCAB6', 'PRR5', 'PRR5-ARHGAP8', 'ARHGAP8', 'PHF21B', 'KIAA0930', 'SMC1B', 'ATXN10', 'TTC38', 'CELSR1', 'GRAMD4', 'TBC1D22A', 'TAFA5', 'BRD1', 'MLC1', 'SBF1', 'CHKB', 'SHANK3', 'POTEH', 'CCT8L2', 'XKR3', 'GAB4', 'IL17RA', 'TMEM121B', 'HDHD5', 'ADA2', 'ATP6V1E1', 'BID', 'TUBA8', 'GGTLC3', 'TMEM191B', 'RIMBP3', 'DGCR6', 'PRODH', 'AC007326.5', 'DGCR2', 'GSC2', 'SLC25A1', 'MRPL40', 'UFD1', 'CDC45', 'CLDN5', 'SEPTIN5', 'AC000093.1', 'TBX1', 'RTL10', 'COMT', 'MIR4761', 'ARVCF', 'DGCR8', 'MIR3618', 'MIR1306', 'TRMT2A', 'RANBP1', 'ZDHHC8', 'CCDC188', 'RTN4R', 'USP41', 'ZNF74', 'SCARF2', 'AC007731.5', 'SERPIND1', 'SNAP29', 'CRKL', 'AC002470.2', 'LZTR1', 'THAP7', 'TUBA3FP', 'P2RX6', 'SLC7A4', 'LRRC74B', 'GGT2', 'RIMBP3B', 'HIC2', 'TMEM191C', 'RIMBP3C', 'UBE2L3', 'YDJC', 'CCDC116', 'SDF2L1', 'PPIL2', 'YPEL1', 'MAPK1', 'PPM1F', 'TOP3B', 'IGLV4-69', 'IGLV8-61', 'IGLV4-60', 'VPREB1', 'IGLV5-52', 'IGLV1-50', 'IGLV9-49', 'IGLV5-48', 'IGLV1-47', 'IGLV7-46', 'IGLV5-45', 'IGLV1-44', 'IGLV7-43', 'IGLV1-40', 'IGLV5-37', 'IGLV1-36', 'ZNF280B', 'ZNF280A', 'PRAME', 'IGLV2-33', 'IGLV3-32', 'GGTLC2', 'IGLV3-27', 'IGLV3-25', 'IGLV2-23', 'IGLV3-22', 'IGLV3-21', 'IGLV3-19', 'IGLV2-14', 'IGLV2-11', 'IGLV3-9', 'MIR650', 'IGLV4-3', 'IGLV3-1', 'IGLL5', 'IGLJ1', 'IGLC1', 'IGLJ2', 'IGLC2', 'IGLJ3', 'IGLC3', 'IGLJ4', 'IGLJ5', 'IGLJ6', 'IGLJ7', 'IGLC7', 'GNAZ', 'RAB36', 'IGLL1', 'DRICH1', 'RGL4', 'VPREB3', 'C22orf15', 'CHCHD10', 'MMP11', 'SMARCB1', 'DERL3', 'SLC2A11', 'AP000350.4', 'MIF', 'GSTT2B', 'DDT', 'AC253536.7', 'GSTT2', 'GSTT4', 'SUSD2', 'GGT5', 'ADORA2A', 'GUCD1', 'SNRPD3', 'GGT1', 'LRRC75B', 'TMEM211', 'CRYBB3', 'LRP5L', 'SRRD', 'TFIP11', 'TPST2', 'CRYBA4', 'HSCB', 'CCDC117', 'XBP1', 'C22orf31', 'RHBDD3', 'EWSR1', 'GAS2L1', 'RASL10A', 'RFPL1', 'THOC5', 'NIPSNAP1', 'UQCR10', 'ASCC2', 'LIF', 'OSM', 'CASTOR1', 'AC004997.1', 'TBC1D10A', 'SF3A1', 'CCDC157', 'AC004832.3', 'MTFP1', 'SEC14L3', 'SEC14L4', 'GAL3ST1', 'PES1', 'TCN2', 'SLC35E4', 'DUSP18', 'SMTN', 'SELENOM', 'INPP5J', 'LIMK2', 'PIK3IP1', 'PISD', 'MIR7109', 'YWHAH', 'C22orf42', 'RFPL2', 'RFPL3', 'RTCB', 'BPIFC', 'FBXO7', 'TIMP3', 'ISX', 'TOM1', 'MCM5', 'MB', 'APOL5', 'APOL3', 'APOL4', 'APOL2', 'APOL1', 'TXN2', 'FOXRED2', 'EIF3D', 'IFT27', 'PVALB', 'NCF4', 'CSF2RB', 'TEX33', 'TST', 'MPST', 'KCTD17', 'IL2RB', 'C1QTNF6', 'SSTR3', 'RAC2', 'CYTH4', 'ELFN2', 'MFNG', 'CARD10', 'CDC42EP1', 'LGALS2', 'SH3BP1', 'PDXP', 'LGALS1', 'NOL12', 'Z83844.1', 'H1-0', 'GCAT', 'ANKRD54', 'MIR658', 'MICALL1', 'C22orf23', 'SOX10', 'PICK1', 'SLC16A8', 'BAIAP2L2', 'MAFF', 'TMEM184B', 'CSNK1E', 'KCNJ4', 'KDELR3', 'DDX17', 'FAM227A', 'TOMM22', 'JOSD1', 'GTPBP1', 'SUN2', 'DNAL4', 'CBX6', 'APOBEC3A', 'APOBEC3B', 'APOBEC3C', 'APOBEC3D', 'APOBEC3F', 'APOBEC3G', 'APOBEC3H', 'CBX7', 'PDGFB', 'RPL3', 'SYNGR1', 'TAB1', 'MGAT3', 'MIEF1', 'AL022312.1', 'ATF4', 'RPS19BP1', 'GRAP2', 'Z82206.1', 'FAM83F', 'SGSM3', 'MCHR1', 'SLC25A17', 'ST13', 'RBX1', 'MIR1281', 'L3MBTL2', 'CHADL', 'RANGAP1', 'ZC3H7B', 'TEF', 'TOB2', 'PHF5A', 'ACO2', 'POLR3H', 'CSDC2', 'PMM1', 'DESI1', 'XRCC6', 'MEI1', 'SREBF2', 'SHISA8', 'TNFRSF13C', 'MIR378I', 'LINC00634', 'SEPTIN3', 'WBP2NL', 'NAGA', 'PHETA2', 'SMDT1', 'NDUFA6', 'CYP2D6', 'CYP2D7', 'NFAM1', 'RRP7A', 'SERHL2', 'CYB5R3', 'ATP5MGL', 'A4GALT', 'ARFGAP3', 'TTLL1', 'MCAT', 'TSPO', 'TTLL12', 'MPPED1', 'SULT4A1', 'PNPLA5', 'PNPLA3', 'SAMM50', 'PARVG', 'NUP50', 'UPK3A', 'FAM118A', 'RIBC2', 'FBLN1', 'WNT7B', 'PPARA', 'CDPF1', 'GTSE1', 'TRMU', 'CERK', 'TBC1D22A-AS1', 'FP325331.1', 'ALG12', 'CRELD2', 'PIM3', 'IL17REL', 'TTLL8', 'MOV10L1', 'PANX2', 'TRABD', 'SELENOO', 'TUBGCP6', 'HDAC10', 'MAPK12', 'MAPK11', 'PLXNB2', 'DENND6B', 'PPP6R2', 'ADM2', 'MIOX', 'LMF2', 'NCAPH2', 'SCO2', 'TYMP', 'ODF3B', 'SYCE3', 'CPT1B', 'CHKB-CPT1B', 'MAPK8IP2', 'ARSA', 'ACR', 'RABL2B'])\n"
     ]
    }
   ],
   "source": [
    "path = './data/rand_library/'\n",
    "dirs = os.listdir(path)\n",
    "\n",
    "library_rand = {}\n",
    "\n",
    "for file in dirs:\n",
    "    if 'txt' in file:\n",
    "        lines = []\n",
    "        with open(path+file, 'r') as fh:\n",
    "            for line in fh:\n",
    "                lines.append(line.rstrip())\n",
    "        if len(lines)%n==0:\n",
    "            library_rand[file[:-4]] = {}\n",
    "            for i in range(len(lines)//4):\n",
    "                library_rand[file[:-4]].update(process(lines[i*4:i*4+4]))\n",
    "        else:\n",
    "            print(\"The file is incomplete\")"
   ]
  }
 ],
 "metadata": {
  "kernelspec": {
   "display_name": "Python 3",
   "language": "python",
   "name": "python3"
  },
  "language_info": {
   "codemirror_mode": {
    "name": "ipython",
    "version": 3
   },
   "file_extension": ".py",
   "mimetype": "text/x-python",
   "name": "python",
   "nbconvert_exporter": "python",
   "pygments_lexer": "ipython3",
   "version": "3.7.6"
  }
 },
 "nbformat": 4,
 "nbformat_minor": 4
}
