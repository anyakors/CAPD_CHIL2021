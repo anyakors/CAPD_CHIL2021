{
 "cells": [
  {
   "cell_type": "code",
   "execution_count": 38,
   "metadata": {},
   "outputs": [],
   "source": [
    "from IPython.display import HTML, display\n",
    "\n",
    "from Bio import SeqIO\n",
    "from Bio.Seq import Seq\n",
    "from Bio.SeqRecord import SeqRecord\n",
    "from Bio.Alphabet import generic_dna\n",
    "import numpy as np\n",
    "from utils import *\n",
    "\n",
    "import h5py\n",
    "import numpy as np\n",
    "import random\n",
    "\n",
    "import tabulate\n",
    "import time\n",
    "import os\n",
    "\n",
    "def labels_to_str(labels):\n",
    "    return ''.join([str(x)+' ' for x in labels])"
   ]
  },
  {
   "cell_type": "code",
   "execution_count": 2,
   "metadata": {},
   "outputs": [],
   "source": [
    "import pandas as pd\n",
    "\n",
    "#data = np.loadtxt('./data/counts_AML.tsv', dtype='str', delimiter='\\t', unpack=False)\n",
    "data = pd.read_csv('./data/counts_AML.tsv', delimiter='\\t', header=0, index_col=0, low_memory=False)"
   ]
  },
  {
   "cell_type": "code",
   "execution_count": 3,
   "metadata": {},
   "outputs": [],
   "source": [
    "data = data.T"
   ]
  },
  {
   "cell_type": "code",
   "execution_count": 4,
   "metadata": {},
   "outputs": [
    {
     "name": "stdout",
     "output_type": "stream",
     "text": [
      "ENST00000448914.1\n",
      "0\n"
     ]
    }
   ],
   "source": [
    "print(data.columns[0])\n",
    "print(data.at['AML1','ENST00000448914.1'])"
   ]
  },
  {
   "cell_type": "code",
   "execution_count": 5,
   "metadata": {},
   "outputs": [],
   "source": [
    "# 0 - tr. name, 1 - chr, 2 - strand, 3,4 - tr. start/end, 5,6 - exon starts/ends, 7 - gene name\n",
    "transcript_file = np.genfromtxt('./data/GENCODE_v34_hg38_comprehensive', usecols=(1, 2, 3, 4, 5, 9, 10, 12), skip_header=1, dtype='str')\n"
   ]
  },
  {
   "cell_type": "code",
   "execution_count": 46,
   "metadata": {},
   "outputs": [
    {
     "name": "stdout",
     "output_type": "stream",
     "text": [
      "Took 6.940023899078369 seconds\n"
     ]
    }
   ],
   "source": [
    "gene_dict = {}\n",
    "i = 0\n",
    "\n",
    "start_time = time.time()\n",
    "\n",
    "for row in transcript_file:\n",
    "    \n",
    "    if row[1]=='chr22':\n",
    "        \n",
    "        if row[7] not in gene_dict.keys():\n",
    "            gene_dict[row[7]] = {}\n",
    "            gene_dict[row[7]]['chr'] = row[1]\n",
    "            gene_dict[row[7]]['strand'] = row[2]\n",
    "            gene_dict[row[7]][row[0]] = {}\n",
    "            gene_dict[row[7]][row[0]]['starts'] = [int(x) for x in row[5].split(',')[:-1]]\n",
    "            gene_dict[row[7]][row[0]]['ends'] = [int(x) for x in row[6].split(',')[:-1]]\n",
    "            gene_dict[row[7]]['global_start'] = int(row[3])\n",
    "            gene_dict[row[7]]['global_end'] = int(row[4])\n",
    "\n",
    "        else:\n",
    "            gene_dict[row[7]][row[0]] = {}\n",
    "            gene_dict[row[7]][row[0]]['starts'] = [int(x) for x in row[5].split(',')[:-1]]\n",
    "            gene_dict[row[7]][row[0]]['ends'] = [int(x) for x in row[6].split(',')[:-1]]\n",
    "            if int(row[3]) < gene_dict[row[7]]['global_start']:\n",
    "                gene_dict[row[7]]['global_start'] = int(row[3])\n",
    "            if int(row[4]) > gene_dict[row[7]]['global_end']:\n",
    "                gene_dict[row[7]]['global_end'] = int(row[4])\n",
    "\n",
    "        try:\n",
    "            gene_dict[row[7]]['labels'] = np.zeros(\n",
    "                (int(gene_dict[row[7]]['global_end']) - \n",
    "                 int(gene_dict[row[7]]['global_start'])))\n",
    "        except ValueError:\n",
    "            print(row[7])\n",
    "            print(gene_dict[row[7]]['global_start'], gene_dict[row[7]]['global_end'])\n",
    "\n",
    "print(\"Took {} seconds\".format(time.time() - start_time))"
   ]
  },
  {
   "cell_type": "code",
   "execution_count": 7,
   "metadata": {},
   "outputs": [
    {
     "name": "stdout",
     "output_type": "stream",
     "text": [
      "['ENST00000371007.6' 'C1orf141'] (227517, 2)\n"
     ]
    }
   ],
   "source": [
    "tg = np.stack((transcript_file[:,0], transcript_file[:,7]), axis=0).T\n",
    "print(tg[0], np.shape(tg))"
   ]
  },
  {
   "cell_type": "code",
   "execution_count": null,
   "metadata": {},
   "outputs": [],
   "source": [
    "#print(np.shape(np.concatenate((tg[:100],tg[100+1:]),axis=0)))"
   ]
  },
  {
   "cell_type": "code",
   "execution_count": 47,
   "metadata": {},
   "outputs": [
    {
     "name": "stdout",
     "output_type": "stream",
     "text": [
      "1044\n",
      "yes\n"
     ]
    }
   ],
   "source": [
    "print(len(gene_dict.keys()))\n",
    "\n",
    "if 'ENST00000421768.1' in data.columns:\n",
    "    print('yes')"
   ]
  },
  {
   "cell_type": "code",
   "execution_count": 48,
   "metadata": {},
   "outputs": [
    {
     "name": "stdout",
     "output_type": "stream",
     "text": [
      "AML1\n",
      "AML2\n",
      "AML3\n",
      "AML4\n",
      "AML5\n",
      "All samples calc: 1.477175235748291 seconds\n"
     ]
    }
   ],
   "source": [
    "# a dictionary with a respective structure: \n",
    "# library -> samples: 'AML1', 'AML2', ...\n",
    "# each sample -> 'AMLi': 'gene1', 'gene2', ...\n",
    "# each gene -> 'genei': array(donor_labels), array(acceptor_labels)\n",
    "library_AML = {}\n",
    "\n",
    "start_time = time.time()\n",
    "\n",
    "for sample in data.index[0:5]:\n",
    "    print(sample)\n",
    "    # sample number\n",
    "    library_AML[sample] = {}\n",
    "    for gene in gene_dict.keys():\n",
    "        for tr in gene_dict[gene].keys():\n",
    "            # go thru the genes and find if the transcript belongs to the gene\n",
    "            if tr in data.columns:\n",
    "                # found a transcript in the gene; \n",
    "                # adding the counts to the respective exon start/end pos\n",
    "                # meanwhile summing up the counts to normalise afterwards\n",
    "                # ind1, ind2 based on global start/end; samples i j shouldn't be a string!\n",
    "                # labels[i,j] <- \n",
    "                # gene_dict[key][all_transcripts[j]]['starts'/'ends'] - \n",
    "                # - global_start / global_end\n",
    "                if gene not in library_AML[sample].keys():\n",
    "                    # if gene is not there yet create\n",
    "                    library_AML[sample][gene] = {}\n",
    "                    length = int(gene_dict[gene]['global_end']) - int(gene_dict[gene]['global_start'])\n",
    "                    library_AML[sample][gene]['alabels'] = np.zeros(length)\n",
    "                    library_AML[sample][gene]['dlabels'] = np.zeros(length)\n",
    "                    library_AML[sample][gene]['norm_factor'] = 0\n",
    "                    for s in gene_dict[gene][tr]['starts']:\n",
    "                        gs = int(gene_dict[gene]['global_start'])\n",
    "                        # int(s)-gs is an array index\n",
    "                        library_AML[sample][gene]['alabels'][int(s)-gs] += float(data.at[sample,tr])\n",
    "                    for s in gene_dict[gene][tr]['ends']:\n",
    "                        ge = int(gene_dict[gene]['global_end'])\n",
    "                         # int(s)-gs is an array index\n",
    "                        library_AML[sample][gene]['dlabels'][int(s)-ge] += float(data.at[sample,tr])\n",
    "                    library_AML[sample][gene]['norm_factor'] += float(data.at[sample,tr])\n",
    "                else:\n",
    "                    # if gene is alrd there just add\n",
    "                    # labels but not only for one index, for a set of indices\n",
    "                    for s in gene_dict[gene][tr]['starts']:\n",
    "                        gs = int(gene_dict[gene]['global_start'])\n",
    "                        # int(s)-gs is an array index\n",
    "                        library_AML[sample][gene]['alabels'][int(s)-gs] += float(data.at[sample,tr])\n",
    "                    for s in gene_dict[gene][tr]['ends']:\n",
    "                        ge = int(gene_dict[gene]['global_end'])\n",
    "                        # int(s)-gs is an array index\n",
    "                        library_AML[sample][gene]['dlabels'][int(s)-ge] += float(data.at[sample,tr])\n",
    "                    library_AML[sample][gene]['norm_factor'] += float(data.at[sample,tr])\n",
    "\n",
    "print(\"All samples calc: {} seconds\".format(time.time() - start_time))"
   ]
  },
  {
   "cell_type": "code",
   "execution_count": 44,
   "metadata": {},
   "outputs": [
    {
     "name": "stdout",
     "output_type": "stream",
     "text": [
      "dict_keys(['alabels', 'dlabels', 'norm_factor'])\n"
     ]
    }
   ],
   "source": [
    "print(library_AML['AML2']['ACTL8'].keys())"
   ]
  },
  {
   "cell_type": "code",
   "execution_count": 45,
   "metadata": {},
   "outputs": [],
   "source": [
    "path_to_file = './data/hg38.fa'\n",
    "\n",
    "hg38 = {}\n",
    "\n",
    "with open(path_to_file, mode='r') as handle:\n",
    "\n",
    "    for record in SeqIO.parse(handle, 'fasta'):\n",
    "\n",
    "        identifier = record.id\n",
    "        description = record.description\n",
    "        sequence = record.seq\n",
    "        \n",
    "        hg38[identifier] = sequence"
   ]
  },
  {
   "cell_type": "code",
   "execution_count": 52,
   "metadata": {},
   "outputs": [
    {
     "ename": "KeyboardInterrupt",
     "evalue": "",
     "output_type": "error",
     "traceback": [
      "\u001b[0;31m---------------------------------------------------------------------------\u001b[0m",
      "\u001b[0;31mKeyboardInterrupt\u001b[0m                         Traceback (most recent call last)",
      "\u001b[0;32m<ipython-input-52-22b85adbeee6>\u001b[0m in \u001b[0;36m<module>\u001b[0;34m\u001b[0m\n\u001b[1;32m     16\u001b[0m \u001b[0;34m\u001b[0m\u001b[0m\n\u001b[1;32m     17\u001b[0m             \u001b[0mf1\u001b[0m\u001b[0;34m.\u001b[0m\u001b[0mwrite\u001b[0m\u001b[0;34m(\u001b[0m\u001b[0mlabels_to_str\u001b[0m\u001b[0;34m(\u001b[0m\u001b[0mlibrary_AML\u001b[0m\u001b[0;34m[\u001b[0m\u001b[0msample\u001b[0m\u001b[0;34m]\u001b[0m\u001b[0;34m[\u001b[0m\u001b[0mgene\u001b[0m\u001b[0;34m]\u001b[0m\u001b[0;34m[\u001b[0m\u001b[0;34m'alabels'\u001b[0m\u001b[0;34m]\u001b[0m\u001b[0;34m)\u001b[0m \u001b[0;34m+\u001b[0m \u001b[0mos\u001b[0m\u001b[0;34m.\u001b[0m\u001b[0mlinesep\u001b[0m\u001b[0;34m)\u001b[0m\u001b[0;34m\u001b[0m\u001b[0;34m\u001b[0m\u001b[0m\n\u001b[0;32m---> 18\u001b[0;31m             \u001b[0mf1\u001b[0m\u001b[0;34m.\u001b[0m\u001b[0mwrite\u001b[0m\u001b[0;34m(\u001b[0m\u001b[0mlabels_to_str\u001b[0m\u001b[0;34m(\u001b[0m\u001b[0mlibrary_AML\u001b[0m\u001b[0;34m[\u001b[0m\u001b[0msample\u001b[0m\u001b[0;34m]\u001b[0m\u001b[0;34m[\u001b[0m\u001b[0mgene\u001b[0m\u001b[0;34m]\u001b[0m\u001b[0;34m[\u001b[0m\u001b[0;34m'dlabels'\u001b[0m\u001b[0;34m]\u001b[0m\u001b[0;34m)\u001b[0m \u001b[0;34m+\u001b[0m \u001b[0mos\u001b[0m\u001b[0;34m.\u001b[0m\u001b[0mlinesep\u001b[0m\u001b[0;34m)\u001b[0m\u001b[0;34m\u001b[0m\u001b[0;34m\u001b[0m\u001b[0m\n\u001b[0m\u001b[1;32m     19\u001b[0m \u001b[0;34m\u001b[0m\u001b[0m\n\u001b[1;32m     20\u001b[0m \u001b[0mprint\u001b[0m\u001b[0;34m(\u001b[0m\u001b[0;34m\"All samples saved: {} seconds\"\u001b[0m\u001b[0;34m.\u001b[0m\u001b[0mformat\u001b[0m\u001b[0;34m(\u001b[0m\u001b[0mtime\u001b[0m\u001b[0;34m.\u001b[0m\u001b[0mtime\u001b[0m\u001b[0;34m(\u001b[0m\u001b[0;34m)\u001b[0m \u001b[0;34m-\u001b[0m \u001b[0mstart_time\u001b[0m\u001b[0;34m)\u001b[0m\u001b[0;34m)\u001b[0m\u001b[0;34m\u001b[0m\u001b[0;34m\u001b[0m\u001b[0m\n",
      "\u001b[0;32m<ipython-input-38-f147d6466d80>\u001b[0m in \u001b[0;36mlabels_to_str\u001b[0;34m(labels)\u001b[0m\n\u001b[1;32m     17\u001b[0m \u001b[0;34m\u001b[0m\u001b[0m\n\u001b[1;32m     18\u001b[0m \u001b[0;32mdef\u001b[0m \u001b[0mlabels_to_str\u001b[0m\u001b[0;34m(\u001b[0m\u001b[0mlabels\u001b[0m\u001b[0;34m)\u001b[0m\u001b[0;34m:\u001b[0m\u001b[0;34m\u001b[0m\u001b[0;34m\u001b[0m\u001b[0m\n\u001b[0;32m---> 19\u001b[0;31m     \u001b[0;32mreturn\u001b[0m \u001b[0;34m''\u001b[0m\u001b[0;34m.\u001b[0m\u001b[0mjoin\u001b[0m\u001b[0;34m(\u001b[0m\u001b[0;34m[\u001b[0m\u001b[0mstr\u001b[0m\u001b[0;34m(\u001b[0m\u001b[0mx\u001b[0m\u001b[0;34m)\u001b[0m\u001b[0;34m+\u001b[0m\u001b[0;34m' '\u001b[0m \u001b[0;32mfor\u001b[0m \u001b[0mx\u001b[0m \u001b[0;32min\u001b[0m \u001b[0mlabels\u001b[0m\u001b[0;34m]\u001b[0m\u001b[0;34m)\u001b[0m\u001b[0;34m\u001b[0m\u001b[0;34m\u001b[0m\u001b[0m\n\u001b[0m",
      "\u001b[0;32m<ipython-input-38-f147d6466d80>\u001b[0m in \u001b[0;36m<listcomp>\u001b[0;34m(.0)\u001b[0m\n\u001b[1;32m     17\u001b[0m \u001b[0;34m\u001b[0m\u001b[0m\n\u001b[1;32m     18\u001b[0m \u001b[0;32mdef\u001b[0m \u001b[0mlabels_to_str\u001b[0m\u001b[0;34m(\u001b[0m\u001b[0mlabels\u001b[0m\u001b[0;34m)\u001b[0m\u001b[0;34m:\u001b[0m\u001b[0;34m\u001b[0m\u001b[0;34m\u001b[0m\u001b[0m\n\u001b[0;32m---> 19\u001b[0;31m     \u001b[0;32mreturn\u001b[0m \u001b[0;34m''\u001b[0m\u001b[0;34m.\u001b[0m\u001b[0mjoin\u001b[0m\u001b[0;34m(\u001b[0m\u001b[0;34m[\u001b[0m\u001b[0mstr\u001b[0m\u001b[0;34m(\u001b[0m\u001b[0mx\u001b[0m\u001b[0;34m)\u001b[0m\u001b[0;34m+\u001b[0m\u001b[0;34m' '\u001b[0m \u001b[0;32mfor\u001b[0m \u001b[0mx\u001b[0m \u001b[0;32min\u001b[0m \u001b[0mlabels\u001b[0m\u001b[0;34m]\u001b[0m\u001b[0;34m)\u001b[0m\u001b[0;34m\u001b[0m\u001b[0;34m\u001b[0m\u001b[0m\n\u001b[0m",
      "\u001b[0;31mKeyboardInterrupt\u001b[0m: "
     ]
    }
   ],
   "source": [
    "start_time = time.time()\n",
    "\n",
    "context = 1000\n",
    "\n",
    "for sample in library_AML.keys():\n",
    "    with open('./data/AML_library/'+sample+'.txt', 'a') as f1:\n",
    "        # genes\n",
    "        for gene in library_AML[sample].keys():\n",
    "            header = '@' + gene\n",
    "            f1.write(header + os.linesep)\n",
    "            \n",
    "            gs = int(gene_dict[gene]['global_start'])\n",
    "            ge = int(gene_dict[gene]['global_end'])\n",
    "            seq = str(hg38[gene_dict[gene]['chr']][gs - context : ge + context])\n",
    "            f1.write(seq + os.linesep)\n",
    "            \n",
    "            f1.write(labels_to_str(library_AML[sample][gene]['alabels']) + os.linesep)\n",
    "            f1.write(labels_to_str(library_AML[sample][gene]['dlabels']) + os.linesep)\n",
    "            \n",
    "print(\"All samples saved: {} seconds\".format(time.time() - start_time))"
   ]
  },
  {
   "cell_type": "code",
   "execution_count": null,
   "metadata": {},
   "outputs": [],
   "source": [
    "print(len(library_AML['AML2'].keys()))"
   ]
  },
  {
   "cell_type": "code",
   "execution_count": null,
   "metadata": {},
   "outputs": [],
   "source": [
    "np.savetxt('alabels_NOXA1.txt', library_AML['AML1']['NOXA1']['alabels'], delimiter=' ')"
   ]
  },
  {
   "cell_type": "code",
   "execution_count": null,
   "metadata": {},
   "outputs": [],
   "source": [
    "print(tr[:15])"
   ]
  },
  {
   "cell_type": "code",
   "execution_count": null,
   "metadata": {},
   "outputs": [],
   "source": []
  }
 ],
 "metadata": {
  "kernelspec": {
   "display_name": "Python 3",
   "language": "python",
   "name": "python3"
  },
  "language_info": {
   "codemirror_mode": {
    "name": "ipython",
    "version": 3
   },
   "file_extension": ".py",
   "mimetype": "text/x-python",
   "name": "python",
   "nbconvert_exporter": "python",
   "pygments_lexer": "ipython3",
   "version": "3.7.6"
  }
 },
 "nbformat": 4,
 "nbformat_minor": 4
}
