{
 "cells": [
  {
   "cell_type": "code",
   "execution_count": 1,
   "metadata": {},
   "outputs": [],
   "source": [
    "import sys\n",
    "import os"
   ]
  },
  {
   "cell_type": "markdown",
   "metadata": {},
   "source": [
    "Parse 4 lines at a time; the first line is a gene and will become a key in a sample dictionary, and the seq acceptor and donor arrays will be data in the dict"
   ]
  },
  {
   "cell_type": "code",
   "execution_count": 2,
   "metadata": {},
   "outputs": [],
   "source": [
    "def process(lines=None):\n",
    "    key = lines[0][1:]\n",
    "    instance = {}\n",
    "    instance[key] = {}\n",
    "    instance[key]['seq'] = lines[1]\n",
    "    instance[key]['acceptor'] = lines[2]\n",
    "    instance[key]['donor'] = lines[3]\n",
    "    return instance\n",
    "\n",
    "n = 4"
   ]
  },
  {
   "cell_type": "markdown",
   "metadata": {},
   "source": [
    "Import all the files in the AML directory first and create a dictionary library_AML where keys will be sample names, and for each key there will be another dict inside with the genes and their seq, acceptors and donors"
   ]
  },
  {
   "cell_type": "code",
   "execution_count": 3,
   "metadata": {},
   "outputs": [
    {
     "name": "stdout",
     "output_type": "stream",
     "text": [
      "The file is incomplete\n"
     ]
    }
   ],
   "source": [
    "path = './data/AML_library/'\n",
    "dirs = os.listdir(path)\n",
    "\n",
    "library_AML = {}\n",
    "\n",
    "for file in dirs:\n",
    "    if 'txt' in file:\n",
    "        lines = []\n",
    "        with open(path+file, 'r') as fh:\n",
    "            for line in fh:\n",
    "                lines.append(line.rstrip())\n",
    "        if len(lines)%n==0:\n",
    "            library_AML[file[:-4]] = {}\n",
    "            for i in range(len(lines)//4):\n",
    "                library_AML[file[:-4]].update(process(lines[i*4:i*4+4]))\n",
    "        else:\n",
    "            print(\"The file is incomplete\")"
   ]
  },
  {
   "cell_type": "code",
   "execution_count": 5,
   "metadata": {},
   "outputs": [
    {
     "name": "stdout",
     "output_type": "stream",
     "text": [
      "dict_keys(['seq', 'acceptor', 'donor'])\n"
     ]
    }
   ],
   "source": [
    "# example of access\n",
    "print(library_AML['AML2']['LARGE1'].keys())"
   ]
  },
  {
   "cell_type": "markdown",
   "metadata": {},
   "source": [
    "Same for random: create a dict library_rand with all the samples and genes and their info inside"
   ]
  },
  {
   "cell_type": "code",
   "execution_count": 6,
   "metadata": {},
   "outputs": [],
   "source": [
    "path = './data/rand_library/'\n",
    "dirs = os.listdir(path)\n",
    "\n",
    "library_rand = {}\n",
    "\n",
    "for file in dirs:\n",
    "    if 'txt' in file:\n",
    "        lines = []\n",
    "        with open(path+file, 'r') as fh:\n",
    "            for line in fh:\n",
    "                lines.append(line.rstrip())\n",
    "        if len(lines)%n==0:\n",
    "            library_rand[file[:-4]] = {}\n",
    "            for i in range(len(lines)//4):\n",
    "                library_rand[file[:-4]].update(process(lines[i*4:i*4+4]))\n",
    "        else:\n",
    "            print(\"The file is incomplete\")"
   ]
  },
  {
   "cell_type": "code",
   "execution_count": null,
   "metadata": {},
   "outputs": [],
   "source": []
  }
 ],
 "metadata": {
  "kernelspec": {
   "display_name": "Python 3",
   "language": "python",
   "name": "python3"
  },
  "language_info": {
   "codemirror_mode": {
    "name": "ipython",
    "version": 3
   },
   "file_extension": ".py",
   "mimetype": "text/x-python",
   "name": "python",
   "nbconvert_exporter": "python",
   "pygments_lexer": "ipython3",
   "version": "3.7.6"
  }
 },
 "nbformat": 4,
 "nbformat_minor": 4
}
