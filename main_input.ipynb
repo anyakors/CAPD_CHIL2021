{
 "cells": [
  {
   "cell_type": "code",
   "execution_count": 38,
   "metadata": {},
   "outputs": [],
   "source": [
    "from Bio import SeqIO\n",
    "from Bio.Seq import Seq\n",
    "from Bio.SeqRecord import SeqRecord\n",
    "from Bio.Alphabet import generic_dna\n",
    "import numpy as np\n",
    "from utils import *\n",
    "\n",
    "import numpy as np\n",
    "import random\n",
    "import pandas as pd\n",
    "\n",
    "import time\n",
    "import os\n",
    "\n",
    "def labels_to_str(labels):\n",
    "    return ''.join([str(x)+' ' for x in labels])"
   ]
  },
  {
   "cell_type": "markdown",
   "metadata": {},
   "source": [
    "Import count files for AML/random samples; here rows are transcripts, columns are samples"
   ]
  },
  {
   "cell_type": "code",
   "execution_count": 2,
   "metadata": {},
   "outputs": [],
   "source": [
    "data = pd.read_csv('./data/counts_AML.tsv', delimiter='\\t', header=0, index_col=0, low_memory=False)\n",
    "\n",
    "# transpose so transcripts are in the columns\n",
    "data = data.T"
   ]
  },
  {
   "cell_type": "markdown",
   "metadata": {},
   "source": [
    "Import the GENCODE v34 comprehensive transcript info file "
   ]
  },
  {
   "cell_type": "code",
   "execution_count": 5,
   "metadata": {},
   "outputs": [],
   "source": [
    "# 0 - tr. name, 1 - chr, 2 - strand, 3,4 - tr. start/end, 5,6 - exon starts/ends, 7 - gene name\n",
    "transcript_file = np.genfromtxt('./data/GENCODE_v34_hg38_comprehensive', usecols=(1, 2, 3, 4, 5, 9, 10, 12), skip_header=1, dtype='str')\n",
    "print(len(transcript_file))"
   ]
  },
  {
   "cell_type": "markdown",
   "metadata": {},
   "source": [
    "Construct the gene dictionary containing summary of transcript info used for splicing labels: for each gene we find all the transcripts that belong to it, and finding a \"global start\" and \"global end\" as the uttermost left start among all the transcripts and the uttermost right end, respectively, because we will be constructing splicing labels for the whole gene, and we must take a stretch of the sequence that covers all the transcripts of the gene. "
   ]
  },
  {
   "cell_type": "code",
   "execution_count": 46,
   "metadata": {},
   "outputs": [
    {
     "name": "stdout",
     "output_type": "stream",
     "text": [
      "Took 6.940023899078369 seconds\n"
     ]
    }
   ],
   "source": [
    "gene_dict = {}\n",
    "\n",
    "start_time = time.time()\n",
    "\n",
    "# each key is a gene\n",
    "for row in transcript_file:\n",
    "    \n",
    "    # only for chr22 for now\n",
    "    if row[1]=='chr22':\n",
    "        \n",
    "        if row[7] not in gene_dict.keys():\n",
    "            gene_dict[row[7]] = {}\n",
    "            gene_dict[row[7]]['chr'] = row[1]\n",
    "            gene_dict[row[7]]['strand'] = row[2]\n",
    "            gene_dict[row[7]][row[0]] = {}\n",
    "            gene_dict[row[7]][row[0]]['starts'] = [int(x) for x in row[5].split(',')[:-1]]\n",
    "            gene_dict[row[7]][row[0]]['ends'] = [int(x) for x in row[6].split(',')[:-1]]\n",
    "            gene_dict[row[7]]['global_start'] = int(row[3])\n",
    "            gene_dict[row[7]]['global_end'] = int(row[4])\n",
    "\n",
    "        else:\n",
    "            gene_dict[row[7]][row[0]] = {}\n",
    "            gene_dict[row[7]][row[0]]['starts'] = [int(x) for x in row[5].split(',')[:-1]]\n",
    "            gene_dict[row[7]][row[0]]['ends'] = [int(x) for x in row[6].split(',')[:-1]]\n",
    "            if int(row[3]) < gene_dict[row[7]]['global_start']:\n",
    "                gene_dict[row[7]]['global_start'] = int(row[3])\n",
    "            if int(row[4]) > gene_dict[row[7]]['global_end']:\n",
    "                gene_dict[row[7]]['global_end'] = int(row[4])\n",
    "\n",
    "        try:\n",
    "            gene_dict[row[7]]['labels'] = np.zeros(\n",
    "                (int(gene_dict[row[7]]['global_end']) - \n",
    "                 int(gene_dict[row[7]]['global_start'])))\n",
    "        except ValueError:\n",
    "            print(row[7])\n",
    "            print(gene_dict[row[7]]['global_start'], gene_dict[row[7]]['global_end'])\n",
    "\n",
    "print(\"Took {} seconds to construct the gene dict\".format(time.time() - start_time))\n",
    "print(\"Number of genes in the region of interest:\", len(gene_dict.keys()))"
   ]
  },
  {
   "cell_type": "markdown",
   "metadata": {},
   "source": [
    "Now constructing the library of the samples and respective labels: the set of genes and transcripts is exactly the same for each sample, but the RNA-seq counts will differ. \n",
    "\n",
    "For each individual sample ('AML1', 'AML2', ...), and using the gene dict constructed previously, we're adding the number of counts from each transcript to all the exon start/end positions of this transcript to the respective positions of acceptor/donor label arrays. This will give us non-normalised number of counts covering each exon start/end. Then we divide these numbers by the total number of counts of all the transcripts belonging to the gene, so if an exon belongs to all the transcripts, then the resulting normalised value for the start/end positions of this exon will be 1. The start and end (acceptor / donor) labels are stored in separate arrays. But for one particular exon with unique start/end positions the normalised number of counts (the label) of the start and the end positions will be the same."
   ]
  },
  {
   "cell_type": "code",
   "execution_count": 1,
   "metadata": {},
   "outputs": [
    {
     "ename": "NameError",
     "evalue": "name 'time' is not defined",
     "output_type": "error",
     "traceback": [
      "\u001b[0;31m---------------------------------------------------------------------------\u001b[0m",
      "\u001b[0;31mNameError\u001b[0m                                 Traceback (most recent call last)",
      "\u001b[0;32m<ipython-input-1-24d0769d66a8>\u001b[0m in \u001b[0;36m<module>\u001b[0;34m\u001b[0m\n\u001b[1;32m      5\u001b[0m \u001b[0mlibrary_AML\u001b[0m \u001b[0;34m=\u001b[0m \u001b[0;34m{\u001b[0m\u001b[0;34m}\u001b[0m\u001b[0;34m\u001b[0m\u001b[0;34m\u001b[0m\u001b[0m\n\u001b[1;32m      6\u001b[0m \u001b[0;34m\u001b[0m\u001b[0m\n\u001b[0;32m----> 7\u001b[0;31m \u001b[0mstart_time\u001b[0m \u001b[0;34m=\u001b[0m \u001b[0mtime\u001b[0m\u001b[0;34m.\u001b[0m\u001b[0mtime\u001b[0m\u001b[0;34m(\u001b[0m\u001b[0;34m)\u001b[0m\u001b[0;34m\u001b[0m\u001b[0;34m\u001b[0m\u001b[0m\n\u001b[0m\u001b[1;32m      8\u001b[0m \u001b[0;34m\u001b[0m\u001b[0m\n\u001b[1;32m      9\u001b[0m \u001b[0;32mfor\u001b[0m \u001b[0msample\u001b[0m \u001b[0;32min\u001b[0m \u001b[0mdata\u001b[0m\u001b[0;34m.\u001b[0m\u001b[0mindex\u001b[0m\u001b[0;34m[\u001b[0m\u001b[0;36m0\u001b[0m\u001b[0;34m:\u001b[0m\u001b[0;36m5\u001b[0m\u001b[0;34m]\u001b[0m\u001b[0;34m:\u001b[0m\u001b[0;34m\u001b[0m\u001b[0;34m\u001b[0m\u001b[0m\n",
      "\u001b[0;31mNameError\u001b[0m: name 'time' is not defined"
     ]
    }
   ],
   "source": [
    "# a dictionary with a respective structure: \n",
    "# library -> samples: 'AML1', 'AML2', ...\n",
    "# each sample -> 'AMLi': 'gene1', 'gene2', ...\n",
    "# each gene -> 'genei': array(donor_labels), array(acceptor_labels)\n",
    "library_AML = {}\n",
    "\n",
    "start_time = time.time()\n",
    "\n",
    "# data.index are pandas dataframe rows which are sample names in this case\n",
    "for sample in data.index[0:5]:\n",
    "    print(sample)\n",
    "    # sample number\n",
    "    library_AML[sample] = {}\n",
    "    for gene in gene_dict.keys():\n",
    "        for tr in gene_dict[gene].keys():\n",
    "            # go thru the genes and find if the transcript belongs to the gene\n",
    "            if tr in data.columns:\n",
    "                # found a transcript in the gene; \n",
    "                # adding the counts to the respective exon start/end pos\n",
    "                # meanwhile summing up the counts to normalise afterwards\n",
    "                # ind1, ind2 based on global start/end; samples i j shouldn't be a string!\n",
    "                # labels[i,j] <- \n",
    "                # gene_dict[key][all_transcripts[j]]['starts'/'ends'] - \n",
    "                # - global_start / global_end\n",
    "                if gene not in library_AML[sample].keys():\n",
    "                    # if gene is not there yet create\n",
    "                    library_AML[sample][gene] = {}\n",
    "                    length = int(gene_dict[gene]['global_end']) - int(gene_dict[gene]['global_start'])\n",
    "                    library_AML[sample][gene]['alabels'] = np.zeros(length)\n",
    "                    library_AML[sample][gene]['dlabels'] = np.zeros(length)\n",
    "                    library_AML[sample][gene]['norm_factor'] = 0\n",
    "                    for s in gene_dict[gene][tr]['starts']:\n",
    "                        gs = int(gene_dict[gene]['global_start'])\n",
    "                        # int(s)-gs is an array index\n",
    "                        library_AML[sample][gene]['alabels'][int(s)-gs] += float(data.at[sample,tr])\n",
    "                    for s in gene_dict[gene][tr]['ends']:\n",
    "                        ge = int(gene_dict[gene]['global_end'])\n",
    "                         # int(s)-gs is an array index\n",
    "                        library_AML[sample][gene]['dlabels'][int(s)-ge] += float(data.at[sample,tr])\n",
    "                    library_AML[sample][gene]['norm_factor'] += float(data.at[sample,tr])\n",
    "                else:\n",
    "                    # if gene is alrd there just add\n",
    "                    # labels but not only for one index, for a set of indices\n",
    "                    for s in gene_dict[gene][tr]['starts']:\n",
    "                        gs = int(gene_dict[gene]['global_start'])\n",
    "                        # int(s)-gs is an array index\n",
    "                        library_AML[sample][gene]['alabels'][int(s)-gs] += float(data.at[sample,tr])\n",
    "                    for s in gene_dict[gene][tr]['ends']:\n",
    "                        ge = int(gene_dict[gene]['global_end'])\n",
    "                        # int(s)-gs is an array index\n",
    "                        library_AML[sample][gene]['dlabels'][int(s)-ge] += float(data.at[sample,tr])\n",
    "                    library_AML[sample][gene]['norm_factor'] += float(data.at[sample,tr])\n",
    "\n",
    "print(\"All samples calc in {} seconds\".format(time.time() - start_time))"
   ]
  },
  {
   "cell_type": "code",
   "execution_count": null,
   "metadata": {},
   "outputs": [],
   "source": [
    "# normalisation\n",
    "for sample in library_AML.keys():\n",
    "    for gene in library_AML[sample].keys():\n",
    "        c = library_AML[sample][gene]['norm_factor']\n",
    "        library_AML[sample][gene]['alabels'] = [x/c for x in library_AML[sample][gene]['alabels']]\n",
    "        library_AML[sample][gene]['dlabels'] = [x/c for x in library_AML[sample][gene]['dlabels']]"
   ]
  },
  {
   "cell_type": "markdown",
   "metadata": {},
   "source": [
    "Loading human genome (version hg38) to extract the respective \"extended\" gene sequences (covering all the transcripts of the gene + flanking ends of 1000nt for context)."
   ]
  },
  {
   "cell_type": "code",
   "execution_count": 45,
   "metadata": {},
   "outputs": [],
   "source": [
    "path_to_file = './data/hg38.fa'\n",
    "\n",
    "hg38 = {}\n",
    "\n",
    "with open(path_to_file, mode='r') as handle:\n",
    "\n",
    "    for record in SeqIO.parse(handle, 'fasta'):\n",
    "\n",
    "        identifier = record.id\n",
    "        description = record.description\n",
    "        sequence = record.seq\n",
    "        \n",
    "        hg38[identifier] = sequence"
   ]
  },
  {
   "cell_type": "markdown",
   "metadata": {},
   "source": [
    "Saving the sample files with gene names, sequences and respective labels (acceptor then donor) into files, separate fpr each sample. The files are heavy."
   ]
  },
  {
   "cell_type": "code",
   "execution_count": 53,
   "metadata": {},
   "outputs": [
    {
     "name": "stdout",
     "output_type": "stream",
     "text": [
      "All samples saved: 69.96654510498047 seconds\n"
     ]
    }
   ],
   "source": [
    "start_time = time.time()\n",
    "\n",
    "context = 1000\n",
    "\n",
    "# save the transcript seq + labels in a separate file for each sample\n",
    "for sample in library_AML.keys():\n",
    "    with open('./data/AML_library/'+sample+'.txt', 'a') as f1:\n",
    "        # genes\n",
    "        for gene in library_AML[sample].keys():\n",
    "            # header: gene name \n",
    "            header = '@' + gene\n",
    "            f1.write(header + os.linesep)\n",
    "            \n",
    "            gs = int(gene_dict[gene]['global_start'])\n",
    "            ge = int(gene_dict[gene]['global_end'])\n",
    "            seq = str(hg38[gene_dict[gene]['chr']][gs - context : ge + context])\n",
    "            # next line: sequence + context flanks on each side\n",
    "            f1.write(seq + os.linesep)\n",
    "            \n",
    "            # next two lines: labels, acceptor then donor, length = seq length - flanks\n",
    "            f1.write(labels_to_str(library_AML[sample][gene]['alabels']) + os.linesep)\n",
    "            f1.write(labels_to_str(library_AML[sample][gene]['dlabels']) + os.linesep)\n",
    "            \n",
    "print(\"All samples saved in {} seconds\".format(time.time() - start_time))"
   ]
  },
  {
   "cell_type": "code",
   "execution_count": null,
   "metadata": {},
   "outputs": [],
   "source": []
  }
 ],
 "metadata": {
  "kernelspec": {
   "display_name": "Python 3",
   "language": "python",
   "name": "python3"
  },
  "language_info": {
   "codemirror_mode": {
    "name": "ipython",
    "version": 3
   },
   "file_extension": ".py",
   "mimetype": "text/x-python",
   "name": "python",
   "nbconvert_exporter": "python",
   "pygments_lexer": "ipython3",
   "version": "3.7.6"
  }
 },
 "nbformat": 4,
 "nbformat_minor": 4
}
