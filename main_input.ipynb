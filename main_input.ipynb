{
 "cells": [
  {
   "cell_type": "code",
   "execution_count": 1,
   "metadata": {},
   "outputs": [],
   "source": [
    "from Bio import SeqIO\n",
    "from Bio.Seq import Seq\n",
    "from Bio.SeqRecord import SeqRecord\n",
    "from Bio.Alphabet import generic_dna\n",
    "import numpy as np\n",
    "from utils import *\n",
    "\n",
    "import numpy as np\n",
    "import random\n",
    "import pandas as pd\n",
    "\n",
    "import time\n",
    "import os\n"
   ]
  },
  {
   "cell_type": "code",
   "execution_count": 2,
   "metadata": {},
   "outputs": [],
   "source": [
    "def labels_squeeze(labels):\n",
    "    ind = np.nonzero(labels)[0]\n",
    "    labels = [labels[i] for i in ind]\n",
    "    labels_ = ''\n",
    "    for i, l in zip(ind,labels):\n",
    "        labels_ += str(i) + ' ' + str(l) + ',' \n",
    "    return labels_\n",
    "\n",
    "# parameters\n",
    "region = ['chr22']\n",
    "context = 1000"
   ]
  },
  {
   "cell_type": "markdown",
   "metadata": {},
   "source": [
    "Import count files for AML/random samples; here rows are transcripts, columns are samples"
   ]
  },
  {
   "cell_type": "code",
   "execution_count": 3,
   "metadata": {},
   "outputs": [
    {
     "name": "stdout",
     "output_type": "stream",
     "text": [
      "(678, 178136)\n",
      "(1000, 178136)\n"
     ]
    }
   ],
   "source": [
    "data_AML = pd.read_csv('./data/counts_AML.tsv', delimiter='\\t', header=0, index_col=0, low_memory=False)\n",
    "data_rand = pd.read_csv('./data/counts_RAN.tsv', delimiter='\\t', header=0, index_col=0, low_memory=False)\n",
    "\n",
    "# transpose so transcripts are in the columns\n",
    "data_AML = data_AML.T\n",
    "data_rand = data_rand.T\n",
    "\n",
    "print(np.shape(data_AML))\n",
    "print(np.shape(data_rand))"
   ]
  },
  {
   "cell_type": "markdown",
   "metadata": {},
   "source": [
    "Import the GENCODE v34 comprehensive transcript info file "
   ]
  },
  {
   "cell_type": "code",
   "execution_count": 4,
   "metadata": {},
   "outputs": [
    {
     "name": "stdout",
     "output_type": "stream",
     "text": [
      "227517\n"
     ]
    }
   ],
   "source": [
    "# 0 - tr. name, 1 - chr, 2 - strand, 3,4 - tr. start/end, 5,6 - exon starts/ends, 7 - gene name\n",
    "transcript_file = np.genfromtxt('./data/GENCODE_v34_hg38_comprehensive', usecols=(1, 2, 3, 4, 5, 9, 10, 12), skip_header=1, dtype='str')\n",
    "print(len(transcript_file))"
   ]
  },
  {
   "cell_type": "markdown",
   "metadata": {},
   "source": [
    "Construct the gene dictionary containing summary of transcript info used for splicing labels: for each gene we find all the transcripts that belong to it, and finding a \"global start\" and \"global end\" as the uttermost left start among all the transcripts and the uttermost right end, respectively, because we will be constructing splicing labels for the whole gene, and we must take a stretch of the sequence that covers all the transcripts of the gene. "
   ]
  },
  {
   "cell_type": "code",
   "execution_count": 5,
   "metadata": {},
   "outputs": [
    {
     "name": "stdout",
     "output_type": "stream",
     "text": [
      "Took 5.83833909034729 seconds to construct the gene dict\n",
      "Number of genes in the region of interest: 1044\n"
     ]
    }
   ],
   "source": [
    "gene_dict = {}\n",
    "\n",
    "start_time = time.time()\n",
    "\n",
    "# each key is a gene\n",
    "for row in transcript_file:\n",
    "    \n",
    "    # only for chr22 for now\n",
    "    if row[1] in region:\n",
    "        \n",
    "        if row[7] not in gene_dict.keys():\n",
    "            gene_dict[row[7]] = {}\n",
    "            gene_dict[row[7]]['chr'] = row[1]\n",
    "            gene_dict[row[7]]['strand'] = row[2]\n",
    "            gene_dict[row[7]][row[0]] = {}\n",
    "            gene_dict[row[7]][row[0]]['starts'] = [int(x) for x in row[5].split(',')[:-1]]\n",
    "            gene_dict[row[7]][row[0]]['ends'] = [int(x) for x in row[6].split(',')[:-1]]\n",
    "            gene_dict[row[7]]['global_start'] = int(row[3])\n",
    "            gene_dict[row[7]]['global_end'] = int(row[4])\n",
    "\n",
    "        else:\n",
    "            gene_dict[row[7]][row[0]] = {}\n",
    "            gene_dict[row[7]][row[0]]['starts'] = [int(x) for x in row[5].split(',')[:-1]]\n",
    "            gene_dict[row[7]][row[0]]['ends'] = [int(x) for x in row[6].split(',')[:-1]]\n",
    "            if int(row[3]) < gene_dict[row[7]]['global_start']:\n",
    "                gene_dict[row[7]]['global_start'] = int(row[3])\n",
    "            if int(row[4]) > gene_dict[row[7]]['global_end']:\n",
    "                gene_dict[row[7]]['global_end'] = int(row[4])\n",
    "\n",
    "        try:\n",
    "            gene_dict[row[7]]['labels'] = np.zeros(\n",
    "                (int(gene_dict[row[7]]['global_end']) - \n",
    "                 int(gene_dict[row[7]]['global_start'])))\n",
    "        except ValueError:\n",
    "            print(row[7])\n",
    "            print(gene_dict[row[7]]['global_start'], gene_dict[row[7]]['global_end'])\n",
    "\n",
    "print(\"Took {} seconds to construct the gene dict\".format(time.time() - start_time))\n",
    "print(\"Number of genes in the region of interest:\", len(gene_dict.keys()))"
   ]
  },
  {
   "cell_type": "markdown",
   "metadata": {},
   "source": [
    "Now constructing the library of the samples and respective labels: the set of genes and transcripts is exactly the same for each sample, but the RNA-seq counts will differ. \n",
    "\n",
    "For each individual sample ('AML1', 'AML2', ...), and using the gene dict constructed previously, we're adding the number of counts from each transcript to all the exon start/end positions of this transcript to the respective positions of acceptor/donor label arrays. This will give us non-normalised number of counts covering each exon start/end. Then we divide these numbers by the total number of counts of all the transcripts belonging to the gene, so if an exon belongs to all the transcripts, then the resulting normalised value for the start/end positions of this exon will be 1. The start and end (acceptor / donor) labels are stored in separate arrays. But for one particular exon with unique start/end positions the normalised number of counts (the label) of the start and the end positions will be the same."
   ]
  },
  {
   "cell_type": "code",
   "execution_count": 6,
   "metadata": {},
   "outputs": [
    {
     "name": "stdout",
     "output_type": "stream",
     "text": [
      "All samples calc in 1.4719789028167725 seconds\n"
     ]
    }
   ],
   "source": [
    "# a dictionary with a respective structure: \n",
    "# library -> samples: 'AML1', 'AML2', ...\n",
    "# each sample -> 'AMLi': 'gene1', 'gene2', ...\n",
    "# each gene -> 'genei': array(donor_labels), array(acceptor_labels)\n",
    "library_AML = {}\n",
    "\n",
    "start_time = time.time()\n",
    "\n",
    "# data.index are pandas dataframe rows which are sample names in this case\n",
    "for sample in data_AML.index:\n",
    "    # sample number\n",
    "    library_AML[sample] = {}\n",
    "    for gene in gene_dict.keys():\n",
    "        for tr in gene_dict[gene].keys():\n",
    "            # go thru the genes and find if the transcript belongs to the gene\n",
    "            if tr in data_AML.columns:\n",
    "                # found a transcript in the gene; \n",
    "                # adding the counts to the respective exon start/end pos\n",
    "                # meanwhile summing up the counts to normalise afterwards\n",
    "                # ind1, ind2 based on global start/end; samples i j shouldn't be a string!\n",
    "                # labels[i,j] <- \n",
    "                # gene_dict[key][all_transcripts[j]]['starts'/'ends'] - \n",
    "                # - global_start / global_end\n",
    "                if gene not in library_AML[sample].keys():\n",
    "                    # if gene is not there yet create\n",
    "                    library_AML[sample][gene] = {}\n",
    "                    length = int(gene_dict[gene]['global_end']) - int(gene_dict[gene]['global_start']) + 1\n",
    "                    library_AML[sample][gene]['alabels'] = np.zeros(length)\n",
    "                    library_AML[sample][gene]['dlabels'] = np.zeros(length)\n",
    "                    library_AML[sample][gene]['norm_factor'] = 0\n",
    "                    for s in gene_dict[gene][tr]['starts']:\n",
    "                        gs = int(gene_dict[gene]['global_start'])\n",
    "                        # int(s)-gs is an array index\n",
    "                        library_AML[sample][gene]['alabels'][int(s)-gs] += float(data_AML.at[sample,tr])\n",
    "                    for s in gene_dict[gene][tr]['ends']:\n",
    "                        ge = int(gene_dict[gene]['global_end'])\n",
    "                         # int(s)-gs is an array index\n",
    "                        library_AML[sample][gene]['dlabels'][int(s)-gs] += float(data_AML.at[sample,tr])\n",
    "                    library_AML[sample][gene]['norm_factor'] += float(data_AML.at[sample,tr])\n",
    "                else:\n",
    "                    # if gene is alrd there just add\n",
    "                    # labels but not only for one index, for a set of indices\n",
    "                    for s in gene_dict[gene][tr]['starts']:\n",
    "                        gs = int(gene_dict[gene]['global_start'])\n",
    "                        # int(s)-gs is an array index\n",
    "                        library_AML[sample][gene]['alabels'][int(s)-gs] += float(data_AML.at[sample,tr])\n",
    "                    for s in gene_dict[gene][tr]['ends']:\n",
    "                        ge = int(gene_dict[gene]['global_end'])\n",
    "                        # int(s)-gs is an array index\n",
    "                        library_AML[sample][gene]['dlabels'][int(s)-gs] += float(data_AML.at[sample,tr])\n",
    "                    library_AML[sample][gene]['norm_factor'] += float(data_AML.at[sample,tr])\n",
    "\n",
    "print(\"All samples calc in {} seconds\".format(time.time() - start_time))"
   ]
  },
  {
   "cell_type": "code",
   "execution_count": 7,
   "metadata": {},
   "outputs": [],
   "source": [
    "# normalisation\n",
    "for sample in library_AML.keys():\n",
    "    for gene in library_AML[sample].keys():\n",
    "        c = library_AML[sample][gene]['norm_factor']\n",
    "        if c!=0:\n",
    "            library_AML[sample][gene]['alabels'] = [round(x/c, 4) for x in library_AML[sample][gene]['alabels']]\n",
    "            library_AML[sample][gene]['dlabels'] = [round(x/c, 4) for x in library_AML[sample][gene]['dlabels']]\n"
   ]
  },
  {
   "cell_type": "markdown",
   "metadata": {},
   "source": [
    "Same for random sample library."
   ]
  },
  {
   "cell_type": "code",
   "execution_count": 8,
   "metadata": {},
   "outputs": [
    {
     "name": "stdout",
     "output_type": "stream",
     "text": [
      "All samples calc in 12.17578911781311 seconds\n"
     ]
    }
   ],
   "source": [
    "# a dictionary with a respective structure: \n",
    "# library -> samples: 'RAN1', 'RAN2', ...\n",
    "# each sample -> 'RANi': 'gene1', 'gene2', ...\n",
    "# each gene -> 'genei': array(donor_labels), array(acceptor_labels)\n",
    "library_rand = {}\n",
    "\n",
    "start_time = time.time()\n",
    "\n",
    "# data.index are pandas dataframe rows which are sample names in this case\n",
    "for sample in data_rand.index:\n",
    "    # sample number\n",
    "    library_rand[sample] = {}\n",
    "    for gene in gene_dict.keys():\n",
    "        for tr in gene_dict[gene].keys():\n",
    "            # go thru the genes and find if the transcript belongs to the gene\n",
    "            if tr in data_rand.columns:\n",
    "                # found a transcript in the gene; \n",
    "                # adding the counts to the respective exon start/end pos\n",
    "                # meanwhile summing up the counts to normalise afterwards\n",
    "                # ind1, ind2 based on global start/end; samples i j shouldn't be a string!\n",
    "                # labels[i,j] <- \n",
    "                # gene_dict[key][all_transcripts[j]]['starts'/'ends'] - \n",
    "                # - global_start / global_end\n",
    "                if gene not in library_rand[sample].keys():\n",
    "                    # if gene is not there yet create\n",
    "                    library_rand[sample][gene] = {}\n",
    "                    length = int(gene_dict[gene]['global_end']) - int(gene_dict[gene]['global_start']) + 1\n",
    "                    library_rand[sample][gene]['alabels'] = np.zeros(length)\n",
    "                    library_rand[sample][gene]['dlabels'] = np.zeros(length)\n",
    "                    library_rand[sample][gene]['norm_factor'] = 0\n",
    "                    for s in gene_dict[gene][tr]['starts']:\n",
    "                        gs = int(gene_dict[gene]['global_start'])\n",
    "                        # int(s)-gs is an array index\n",
    "                        library_rand[sample][gene]['alabels'][int(s)-gs] += float(data_rand.at[sample,tr])\n",
    "                    for s in gene_dict[gene][tr]['ends']:\n",
    "                        ge = int(gene_dict[gene]['global_end'])\n",
    "                         # int(s)-gs is an array index\n",
    "                        library_rand[sample][gene]['dlabels'][int(s)-gs] += float(data_rand.at[sample,tr])\n",
    "                    library_rand[sample][gene]['norm_factor'] += float(data_rand.at[sample,tr])\n",
    "                else:\n",
    "                    # if gene is alrd there just add\n",
    "                    # labels but not only for one index, for a set of indices\n",
    "                    for s in gene_dict[gene][tr]['starts']:\n",
    "                        gs = int(gene_dict[gene]['global_start'])\n",
    "                        # int(s)-gs is an array index\n",
    "                        library_rand[sample][gene]['alabels'][int(s)-gs] += float(data_rand.at[sample,tr])\n",
    "                    for s in gene_dict[gene][tr]['ends']:\n",
    "                        ge = int(gene_dict[gene]['global_end'])\n",
    "                        # int(s)-gs is an array index\n",
    "                        library_rand[sample][gene]['dlabels'][int(s)-gs] += float(data_rand.at[sample,tr])\n",
    "                    library_rand[sample][gene]['norm_factor'] += float(data_rand.at[sample,tr])\n",
    "\n",
    "print(\"All samples calc in {} seconds\".format(time.time() - start_time))"
   ]
  },
  {
   "cell_type": "code",
   "execution_count": 9,
   "metadata": {},
   "outputs": [],
   "source": [
    "# normalisation\n",
    "for sample in library_rand.keys():\n",
    "    for gene in library_rand[sample].keys():\n",
    "        c = library_rand[sample][gene]['norm_factor']\n",
    "        if c!=0:\n",
    "            library_rand[sample][gene]['alabels'] = [round(x/c, 4) for x in library_rand[sample][gene]['alabels']]\n",
    "            library_rand[sample][gene]['dlabels'] = [round(x/c, 4) for x in library_rand[sample][gene]['dlabels']]\n"
   ]
  },
  {
   "cell_type": "markdown",
   "metadata": {},
   "source": [
    "Loading human genome (version hg38) to extract the respective \"extended\" gene sequences (covering all the transcripts of the gene + flanking ends of 1000nt for context)."
   ]
  },
  {
   "cell_type": "code",
   "execution_count": 10,
   "metadata": {},
   "outputs": [],
   "source": [
    "# need to download and unpack the genome file into the ./data directory:\n",
    "# wget --timestamping 'ftp://hgdownload.cse.ucsc.edu/goldenPath/hg38/bigZips/hg38.fa.gz' -O hg38.fa.gz\n",
    "# gunzip hg38.fa.gz\n",
    "path_to_file = './data/hg38.fa'\n",
    "\n",
    "hg38 = {}\n",
    "\n",
    "with open(path_to_file, mode='r') as handle:\n",
    "\n",
    "    for record in SeqIO.parse(handle, 'fasta'):\n",
    "\n",
    "        identifier = record.id\n",
    "        description = record.description\n",
    "        sequence = record.seq\n",
    "        \n",
    "        hg38[identifier] = sequence"
   ]
  },
  {
   "cell_type": "markdown",
   "metadata": {},
   "source": [
    "Saving the sample files with gene names, sequences and respective labels (acceptor then donor) into files, separate for each sample. Each file will contain a number of genes for the region of interest specified in the parameters above (for ex., chr22), for each gene there will be 4 lines:\n",
    "-> @header with the name of the gene\n",
    "-> sequence with 1000nt flanks (specified in the parameters section)\n",
    "-> acceptor labels: tuples separated by a comma, the first value is an index, the second value is the label value, all the other nonspecified cells contain zeros\n",
    "-> donor labels, same as acceptor"
   ]
  },
  {
   "cell_type": "code",
   "execution_count": 11,
   "metadata": {},
   "outputs": [
    {
     "name": "stdout",
     "output_type": "stream",
     "text": [
      "All samples saved in 28.772634983062744 seconds\n"
     ]
    }
   ],
   "source": [
    "start_time = time.time()\n",
    "\n",
    "# save the transcript seq + labels in a separate file for each sample\n",
    "for sample in library_AML.keys():\n",
    "    with open('./data/AML_library/'+sample+'.txt', 'a') as f1:\n",
    "        # genes\n",
    "        for gene in library_AML[sample].keys():\n",
    "            # header: gene name \n",
    "            header = '@' + gene\n",
    "            f1.write(header + os.linesep)\n",
    "            \n",
    "            gs = int(gene_dict[gene]['global_start'])\n",
    "            ge = int(gene_dict[gene]['global_end'])\n",
    "            seq = str(hg38[gene_dict[gene]['chr']][gs - context : ge + context])\n",
    "            # next line: sequence + context flanks on each side\n",
    "            f1.write(seq + os.linesep)\n",
    "            \n",
    "            # next two lines: labels, acceptor then donor, length = seq length - flanks\n",
    "            f1.write(labels_squeeze(library_AML[sample][gene]['alabels']) + os.linesep)\n",
    "            f1.write(labels_squeeze(library_AML[sample][gene]['dlabels']) + os.linesep)\n",
    "            \n",
    "print(\"All samples saved in {} seconds\".format(time.time() - start_time))"
   ]
  },
  {
   "cell_type": "code",
   "execution_count": 12,
   "metadata": {},
   "outputs": [
    {
     "name": "stdout",
     "output_type": "stream",
     "text": [
      "All samples saved in 17.989784002304077 seconds\n"
     ]
    }
   ],
   "source": [
    "start_time = time.time()\n",
    "\n",
    "# save the transcript seq + labels in a separate file for each sample\n",
    "for sample in library_rand.keys():\n",
    "    with open('./data/rand_library/'+sample+'.txt', 'a') as f1:\n",
    "        # genes\n",
    "        for gene in library_rand[sample].keys():\n",
    "            # header: gene name \n",
    "            header = '@' + gene\n",
    "            f1.write(header + os.linesep)\n",
    "            \n",
    "            gs = int(gene_dict[gene]['global_start'])\n",
    "            ge = int(gene_dict[gene]['global_end'])\n",
    "            seq = str(hg38[gene_dict[gene]['chr']][gs - context : ge + context])\n",
    "            # next line: sequence + context flanks on each side\n",
    "            f1.write(seq + os.linesep)\n",
    "            \n",
    "            # next two lines: labels, acceptor then donor, length = seq length - flanks\n",
    "            f1.write(labels_squeeze(library_rand[sample][gene]['alabels']) + os.linesep)\n",
    "            f1.write(labels_squeeze(library_rand[sample][gene]['dlabels']) + os.linesep)\n",
    "            \n",
    "print(\"All samples saved in {} seconds\".format(time.time() - start_time))"
   ]
  },
  {
   "cell_type": "code",
   "execution_count": null,
   "metadata": {},
   "outputs": [],
   "source": []
  }
 ],
 "metadata": {
  "kernelspec": {
   "display_name": "Python 3",
   "language": "python",
   "name": "python3"
  },
  "language_info": {
   "codemirror_mode": {
    "name": "ipython",
    "version": 3
   },
   "file_extension": ".py",
   "mimetype": "text/x-python",
   "name": "python",
   "nbconvert_exporter": "python",
   "pygments_lexer": "ipython3",
   "version": "3.7.6"
  }
 },
 "nbformat": 4,
 "nbformat_minor": 4
}
