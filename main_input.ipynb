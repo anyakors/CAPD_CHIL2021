{
 "cells": [
  {
   "cell_type": "code",
   "execution_count": 1,
   "metadata": {},
   "outputs": [],
   "source": [
    "from Bio import SeqIO\n",
    "from Bio.Seq import Seq\n",
    "from Bio.SeqRecord import SeqRecord\n",
    "from Bio.Alphabet import generic_dna\n",
    "import numpy as np\n",
    "from utils import *\n",
    "\n",
    "import h5py"
   ]
  },
  {
   "cell_type": "code",
   "execution_count": 2,
   "metadata": {},
   "outputs": [
    {
     "name": "stdout",
     "output_type": "stream",
     "text": [
      "['ENST00000257818.2' 'ENST00000241453.11' 'ENST00000216336.2'\n",
      " 'ENST00000284509.10' 'ENST00000592205.5' 'ENST00000633060.1'\n",
      " 'ENST00000427103.5' 'ENST00000360121.4' 'ENST00000378962.3'\n",
      " 'ENST00000612677.4' 'ENST00000309017.7' 'ENST00000304625.2'\n",
      " 'ENST00000380987.2' 'ENST00000598473.1' 'ENST00000233997.3'\n",
      " 'ENST00000620695.2' 'ENST00000367279.8' 'ENST00000376581.9'\n",
      " 'ENST00000635923.1' 'ENST00000448387.6' 'ENST00000537784.5'\n",
      " 'ENST00000563039.2' 'ENST00000381297.9' 'ENST00000611771.1'\n",
      " 'ENST00000430686.2' 'ENST00000304639.3' 'ENST00000393118.6'\n",
      " 'ENST00000554578.5' 'ENST00000400007.8' 'ENST00000245479.2'\n",
      " 'ENST00000561385.5' 'ENST00000215855.6' 'ENST00000293373.10'\n",
      " 'ENST00000468385.1' 'ENST00000477988.1' 'ENST00000282026.1'\n",
      " 'ENST00000346128.10' 'ENST00000261233.8' 'ENST00000359135.7'\n",
      " 'ENST00000367814.8' 'ENST00000515859.5' 'ENST00000507316.1'\n",
      " 'ENST00000355530.6' 'ENST00000531348.5' 'ENST00000262262.4'\n",
      " 'ENST00000264824.4' 'ENST00000527615.5' 'ENST00000381501.7'\n",
      " 'ENST00000373304.3' 'ENST00000281938.6']\n",
      "dict_keys(['chr1', 'chr10', 'chr11', 'chr11_KI270721v1_random', 'chr12', 'chr13', 'chr14', 'chr14_GL000009v2_random', 'chr14_GL000225v1_random', 'chr14_KI270722v1_random', 'chr14_GL000194v1_random', 'chr14_KI270723v1_random', 'chr14_KI270724v1_random', 'chr14_KI270725v1_random', 'chr14_KI270726v1_random', 'chr15', 'chr15_KI270727v1_random', 'chr16', 'chr16_KI270728v1_random', 'chr17', 'chr17_GL000205v2_random', 'chr17_KI270729v1_random', 'chr17_KI270730v1_random', 'chr18', 'chr19', 'chr1_KI270706v1_random', 'chr1_KI270707v1_random', 'chr1_KI270708v1_random', 'chr1_KI270709v1_random', 'chr1_KI270710v1_random', 'chr1_KI270711v1_random', 'chr1_KI270712v1_random', 'chr1_KI270713v1_random', 'chr1_KI270714v1_random', 'chr2', 'chr20', 'chr21', 'chr22', 'chr22_KI270731v1_random', 'chr22_KI270732v1_random', 'chr22_KI270733v1_random', 'chr22_KI270734v1_random', 'chr22_KI270735v1_random', 'chr22_KI270736v1_random', 'chr22_KI270737v1_random', 'chr22_KI270738v1_random', 'chr22_KI270739v1_random', 'chr2_KI270715v1_random', 'chr2_KI270716v1_random', 'chr3', 'chr3_GL000221v1_random', 'chr4', 'chr4_GL000008v2_random', 'chr5', 'chr5_GL000208v1_random', 'chr6', 'chr7', 'chr8', 'chr9', 'chr9_KI270717v1_random', 'chr9_KI270718v1_random', 'chr9_KI270719v1_random', 'chr9_KI270720v1_random', 'chr1_KI270762v1_alt', 'chr1_KI270766v1_alt', 'chr1_KI270760v1_alt', 'chr1_KI270765v1_alt', 'chr1_GL383518v1_alt', 'chr1_GL383519v1_alt', 'chr1_GL383520v2_alt', 'chr1_KI270764v1_alt', 'chr1_KI270763v1_alt', 'chr1_KI270759v1_alt', 'chr1_KI270761v1_alt', 'chr2_KI270770v1_alt', 'chr2_KI270773v1_alt', 'chr2_KI270774v1_alt', 'chr2_KI270769v1_alt', 'chr2_GL383521v1_alt', 'chr2_KI270772v1_alt', 'chr2_KI270775v1_alt', 'chr2_KI270771v1_alt', 'chr2_KI270768v1_alt', 'chr2_GL582966v2_alt', 'chr2_GL383522v1_alt', 'chr2_KI270776v1_alt', 'chr2_KI270767v1_alt', 'chr3_JH636055v2_alt', 'chr3_KI270783v1_alt', 'chr3_KI270780v1_alt', 'chr3_GL383526v1_alt', 'chr3_KI270777v1_alt', 'chr3_KI270778v1_alt', 'chr3_KI270781v1_alt', 'chr3_KI270779v1_alt', 'chr3_KI270782v1_alt', 'chr3_KI270784v1_alt', 'chr4_KI270790v1_alt', 'chr4_GL383528v1_alt', 'chr4_KI270787v1_alt', 'chr4_GL000257v2_alt', 'chr4_KI270788v1_alt', 'chr4_GL383527v1_alt', 'chr4_KI270785v1_alt', 'chr4_KI270789v1_alt', 'chr4_KI270786v1_alt', 'chr5_KI270793v1_alt', 'chr5_KI270792v1_alt', 'chr5_KI270791v1_alt', 'chr5_GL383532v1_alt', 'chr5_GL949742v1_alt', 'chr5_KI270794v1_alt', 'chr5_GL339449v2_alt', 'chr5_GL383530v1_alt', 'chr5_KI270796v1_alt', 'chr5_GL383531v1_alt', 'chr5_KI270795v1_alt', 'chr6_GL000250v2_alt', 'chr6_KI270800v1_alt', 'chr6_KI270799v1_alt', 'chr6_GL383533v1_alt', 'chr6_KI270801v1_alt', 'chr6_KI270802v1_alt', 'chr6_KB021644v2_alt', 'chr6_KI270797v1_alt', 'chr6_KI270798v1_alt', 'chr7_KI270804v1_alt', 'chr7_KI270809v1_alt', 'chr7_KI270806v1_alt', 'chr7_GL383534v2_alt', 'chr7_KI270803v1_alt', 'chr7_KI270808v1_alt', 'chr7_KI270807v1_alt', 'chr7_KI270805v1_alt', 'chr8_KI270818v1_alt', 'chr8_KI270812v1_alt', 'chr8_KI270811v1_alt', 'chr8_KI270821v1_alt', 'chr8_KI270813v1_alt', 'chr8_KI270822v1_alt', 'chr8_KI270814v1_alt', 'chr8_KI270810v1_alt', 'chr8_KI270819v1_alt', 'chr8_KI270820v1_alt', 'chr8_KI270817v1_alt', 'chr8_KI270816v1_alt', 'chr8_KI270815v1_alt', 'chr9_GL383539v1_alt', 'chr9_GL383540v1_alt', 'chr9_GL383541v1_alt', 'chr9_GL383542v1_alt', 'chr9_KI270823v1_alt', 'chr10_GL383545v1_alt', 'chr10_KI270824v1_alt', 'chr10_GL383546v1_alt', 'chr10_KI270825v1_alt', 'chr11_KI270832v1_alt', 'chr11_KI270830v1_alt', 'chr11_KI270831v1_alt', 'chr11_KI270829v1_alt', 'chr11_GL383547v1_alt', 'chr11_JH159136v1_alt', 'chr11_JH159137v1_alt', 'chr11_KI270827v1_alt', 'chr11_KI270826v1_alt', 'chr12_GL877875v1_alt', 'chr12_GL877876v1_alt', 'chr12_KI270837v1_alt', 'chr12_GL383549v1_alt', 'chr12_KI270835v1_alt', 'chr12_GL383550v2_alt', 'chr12_GL383552v1_alt', 'chr12_GL383553v2_alt', 'chr12_KI270834v1_alt', 'chr12_GL383551v1_alt', 'chr12_KI270833v1_alt', 'chr12_KI270836v1_alt', 'chr13_KI270840v1_alt', 'chr13_KI270839v1_alt', 'chr13_KI270843v1_alt', 'chr13_KI270841v1_alt', 'chr13_KI270838v1_alt', 'chr13_KI270842v1_alt', 'chr14_KI270844v1_alt', 'chr14_KI270847v1_alt', 'chr14_KI270845v1_alt', 'chr14_KI270846v1_alt', 'chr15_KI270852v1_alt', 'chr15_KI270851v1_alt', 'chr15_KI270848v1_alt', 'chr15_GL383554v1_alt', 'chr15_KI270849v1_alt', 'chr15_GL383555v2_alt', 'chr15_KI270850v1_alt', 'chr16_KI270854v1_alt', 'chr16_KI270856v1_alt', 'chr16_KI270855v1_alt', 'chr16_KI270853v1_alt', 'chr16_GL383556v1_alt', 'chr16_GL383557v1_alt', 'chr17_GL383563v3_alt', 'chr17_KI270862v1_alt', 'chr17_KI270861v1_alt', 'chr17_KI270857v1_alt', 'chr17_JH159146v1_alt', 'chr17_JH159147v1_alt', 'chr17_GL383564v2_alt', 'chr17_GL000258v2_alt', 'chr17_GL383565v1_alt', 'chr17_KI270858v1_alt', 'chr17_KI270859v1_alt', 'chr17_GL383566v1_alt', 'chr17_KI270860v1_alt', 'chr18_KI270864v1_alt', 'chr18_GL383567v1_alt', 'chr18_GL383570v1_alt', 'chr18_GL383571v1_alt', 'chr18_GL383568v1_alt', 'chr18_GL383569v1_alt', 'chr18_GL383572v1_alt', 'chr18_KI270863v1_alt', 'chr19_KI270868v1_alt', 'chr19_KI270865v1_alt', 'chr19_GL383573v1_alt', 'chr19_GL383575v2_alt', 'chr19_GL383576v1_alt', 'chr19_GL383574v1_alt', 'chr19_KI270866v1_alt', 'chr19_KI270867v1_alt', 'chr19_GL949746v1_alt', 'chr20_GL383577v2_alt', 'chr20_KI270869v1_alt', 'chr20_KI270871v1_alt', 'chr20_KI270870v1_alt', 'chr21_GL383578v2_alt', 'chr21_KI270874v1_alt', 'chr21_KI270873v1_alt', 'chr21_GL383579v2_alt', 'chr21_GL383580v2_alt', 'chr21_GL383581v2_alt', 'chr21_KI270872v1_alt', 'chr22_KI270875v1_alt', 'chr22_KI270878v1_alt', 'chr22_KI270879v1_alt', 'chr22_KI270876v1_alt', 'chr22_KI270877v1_alt', 'chr22_GL383583v2_alt', 'chr22_GL383582v2_alt', 'chrX_KI270880v1_alt', 'chrX_KI270881v1_alt', 'chr19_KI270882v1_alt', 'chr19_KI270883v1_alt', 'chr19_KI270884v1_alt', 'chr19_KI270885v1_alt', 'chr19_KI270886v1_alt', 'chr19_KI270887v1_alt', 'chr19_KI270888v1_alt', 'chr19_KI270889v1_alt', 'chr19_KI270890v1_alt', 'chr19_KI270891v1_alt', 'chr1_KI270892v1_alt', 'chr2_KI270894v1_alt', 'chr2_KI270893v1_alt', 'chr3_KI270895v1_alt', 'chr4_KI270896v1_alt', 'chr5_KI270897v1_alt', 'chr5_KI270898v1_alt', 'chr6_GL000251v2_alt', 'chr7_KI270899v1_alt', 'chr8_KI270901v1_alt', 'chr8_KI270900v1_alt', 'chr11_KI270902v1_alt', 'chr11_KI270903v1_alt', 'chr12_KI270904v1_alt', 'chr15_KI270906v1_alt', 'chr15_KI270905v1_alt', 'chr17_KI270907v1_alt', 'chr17_KI270910v1_alt', 'chr17_KI270909v1_alt', 'chr17_JH159148v1_alt', 'chr17_KI270908v1_alt', 'chr18_KI270912v1_alt', 'chr18_KI270911v1_alt', 'chr19_GL949747v2_alt', 'chr22_KB663609v1_alt', 'chrX_KI270913v1_alt', 'chr19_KI270914v1_alt', 'chr19_KI270915v1_alt', 'chr19_KI270916v1_alt', 'chr19_KI270917v1_alt', 'chr19_KI270918v1_alt', 'chr19_KI270919v1_alt', 'chr19_KI270920v1_alt', 'chr19_KI270921v1_alt', 'chr19_KI270922v1_alt', 'chr19_KI270923v1_alt', 'chr3_KI270924v1_alt', 'chr4_KI270925v1_alt', 'chr6_GL000252v2_alt', 'chr8_KI270926v1_alt', 'chr11_KI270927v1_alt', 'chr19_GL949748v2_alt', 'chr22_KI270928v1_alt', 'chr19_KI270929v1_alt', 'chr19_KI270930v1_alt', 'chr19_KI270931v1_alt', 'chr19_KI270932v1_alt', 'chr19_KI270933v1_alt', 'chr19_GL000209v2_alt', 'chr3_KI270934v1_alt', 'chr6_GL000253v2_alt', 'chr19_GL949749v2_alt', 'chr3_KI270935v1_alt', 'chr6_GL000254v2_alt', 'chr19_GL949750v2_alt', 'chr3_KI270936v1_alt', 'chr6_GL000255v2_alt', 'chr19_GL949751v2_alt', 'chr3_KI270937v1_alt', 'chr6_GL000256v2_alt', 'chr19_GL949752v1_alt', 'chr6_KI270758v1_alt', 'chr19_GL949753v2_alt', 'chr19_KI270938v1_alt', 'chrM', 'chrUn_KI270302v1', 'chrUn_KI270304v1', 'chrUn_KI270303v1', 'chrUn_KI270305v1', 'chrUn_KI270322v1', 'chrUn_KI270320v1', 'chrUn_KI270310v1', 'chrUn_KI270316v1', 'chrUn_KI270315v1', 'chrUn_KI270312v1', 'chrUn_KI270311v1', 'chrUn_KI270317v1', 'chrUn_KI270412v1', 'chrUn_KI270411v1', 'chrUn_KI270414v1', 'chrUn_KI270419v1', 'chrUn_KI270418v1', 'chrUn_KI270420v1', 'chrUn_KI270424v1', 'chrUn_KI270417v1', 'chrUn_KI270422v1', 'chrUn_KI270423v1', 'chrUn_KI270425v1', 'chrUn_KI270429v1', 'chrUn_KI270442v1', 'chrUn_KI270466v1', 'chrUn_KI270465v1', 'chrUn_KI270467v1', 'chrUn_KI270435v1', 'chrUn_KI270438v1', 'chrUn_KI270468v1', 'chrUn_KI270510v1', 'chrUn_KI270509v1', 'chrUn_KI270518v1', 'chrUn_KI270508v1', 'chrUn_KI270516v1', 'chrUn_KI270512v1', 'chrUn_KI270519v1', 'chrUn_KI270522v1', 'chrUn_KI270511v1', 'chrUn_KI270515v1', 'chrUn_KI270507v1', 'chrUn_KI270517v1', 'chrUn_KI270529v1', 'chrUn_KI270528v1', 'chrUn_KI270530v1', 'chrUn_KI270539v1', 'chrUn_KI270538v1', 'chrUn_KI270544v1', 'chrUn_KI270548v1', 'chrUn_KI270583v1', 'chrUn_KI270587v1', 'chrUn_KI270580v1', 'chrUn_KI270581v1', 'chrUn_KI270579v1', 'chrUn_KI270589v1', 'chrUn_KI270590v1', 'chrUn_KI270584v1', 'chrUn_KI270582v1', 'chrUn_KI270588v1', 'chrUn_KI270593v1', 'chrUn_KI270591v1', 'chrUn_KI270330v1', 'chrUn_KI270329v1', 'chrUn_KI270334v1', 'chrUn_KI270333v1', 'chrUn_KI270335v1', 'chrUn_KI270338v1', 'chrUn_KI270340v1', 'chrUn_KI270336v1', 'chrUn_KI270337v1', 'chrUn_KI270363v1', 'chrUn_KI270364v1', 'chrUn_KI270362v1', 'chrUn_KI270366v1', 'chrUn_KI270378v1', 'chrUn_KI270379v1', 'chrUn_KI270389v1', 'chrUn_KI270390v1', 'chrUn_KI270387v1', 'chrUn_KI270395v1', 'chrUn_KI270396v1', 'chrUn_KI270388v1', 'chrUn_KI270394v1', 'chrUn_KI270386v1', 'chrUn_KI270391v1', 'chrUn_KI270383v1', 'chrUn_KI270393v1', 'chrUn_KI270384v1', 'chrUn_KI270392v1', 'chrUn_KI270381v1', 'chrUn_KI270385v1', 'chrUn_KI270382v1', 'chrUn_KI270376v1', 'chrUn_KI270374v1', 'chrUn_KI270372v1', 'chrUn_KI270373v1', 'chrUn_KI270375v1', 'chrUn_KI270371v1', 'chrUn_KI270448v1', 'chrUn_KI270521v1', 'chrUn_GL000195v1', 'chrUn_GL000219v1', 'chrUn_GL000220v1', 'chrUn_GL000224v1', 'chrUn_KI270741v1', 'chrUn_GL000226v1', 'chrUn_GL000213v1', 'chrUn_KI270743v1', 'chrUn_KI270744v1', 'chrUn_KI270745v1', 'chrUn_KI270746v1', 'chrUn_KI270747v1', 'chrUn_KI270748v1', 'chrUn_KI270749v1', 'chrUn_KI270750v1', 'chrUn_KI270751v1', 'chrUn_KI270752v1', 'chrUn_KI270753v1', 'chrUn_KI270754v1', 'chrUn_KI270755v1', 'chrUn_KI270756v1', 'chrUn_KI270757v1', 'chrUn_GL000214v1', 'chrUn_KI270742v1', 'chrUn_GL000216v2', 'chrUn_GL000218v1', 'chrX', 'chrY', 'chrY_KI270740v1_random'])\n"
     ]
    }
   ],
   "source": [
    "path_to_file = './data/hg38.fa'\n",
    "\n",
    "chr_dict = {}\n",
    "\n",
    "with open(path_to_file, mode='r') as handle:\n",
    "\n",
    "    for record in SeqIO.parse(handle, 'fasta'):\n",
    "\n",
    "        identifier = record.id\n",
    "        description = record.description\n",
    "        sequence = record.seq\n",
    "        \n",
    "        chr_dict[identifier] = sequence"
   ]
  },
  {
   "cell_type": "code",
   "execution_count": null,
   "metadata": {},
   "outputs": [],
   "source": [
    "# 0 - tr. name, 1 - chr, 2 - strand, 3,4 - tr. start/end, 5,6 - exon starts/ends, 7 - gene name\n",
    "transcript_file = np.genfromtxt('./data/GENCODE_v34_hg38_comprehensive', usecols=(1, 2, 3, 4, 5, 9, 10, 12), skip_header=1, dtype='str')\n",
    "\n",
    "gene_dict = {}\n",
    "\n",
    "for row in transcript_file:\n",
    "    \n",
    "    if row[7] in gene_dict.keys():\n",
    "        gene_dict[row[7]][row[0]] = {}\n",
    "        gene_dict[row[7]][row[0]]['starts'] = row[5]\n",
    "        gene_dict[row[7]][row[0]]['ends'] = row[6]\n",
    "        if row[3] < gene_dict[row[7]]['global_start']:\n",
    "            gene_dict[row[7]]['global_start'] = row[3]\n",
    "        if row[4] > gene_dict[row[7]]['global_end']:\n",
    "            gene_dict[row[7]]['global_start'] = row[4]\n",
    "    else:\n",
    "        gene_dict[row[7]] = {}\n",
    "        gene_dict[row[7]]['chr'] = row[1]\n",
    "        gene_dict[row[7]]['strand'] = row[2]\n",
    "        gene_dict[row[7]][row[0]] = {}\n",
    "        gene_dict[row[7]][row[0]]['starts'] = row[5]\n",
    "        gene_dict[row[7]][row[0]]['ends'] = row[6]\n",
    "        gene_dict[row[7]]['global_start'] = row[3]\n",
    "        gene_dict[row[7]]['global_end'] = row[4]\n",
    "        \n",
    "    gene_dict[row[7]]['labels'] = np.zeros(\n",
    "        (int(gene_dict[row[7]]['global_end']) - \n",
    "         int(gene_dict[row[7]]['global_start'])))\n"
   ]
  },
  {
   "cell_type": "code",
   "execution_count": null,
   "metadata": {},
   "outputs": [],
   "source": [
    "print(len(gene_dict.keys()))"
   ]
  },
  {
   "cell_type": "code",
   "execution_count": null,
   "metadata": {},
   "outputs": [],
   "source": [
    "# a dictionary with a respective structure: \n",
    "# library -> samples: 'AML1', 'AML2', ...\n",
    "# each sample -> 'AMLi': 'gene1', 'gene2', ...\n",
    "# each gene -> 'genei': array(donor_labels), array(acceptor_labels)\n",
    "library_AML = {}\n",
    "\n",
    "for i in range(len(samples)):\n",
    "    # sample number\n",
    "    sN = 'AML'+str(i+1)\n",
    "    library_AML[sN] = {}\n",
    "    \n",
    "    for j in range(len(samples[i])):\n",
    "        \n",
    "        c = 0\n",
    "        for gene in gene_dict.keys():\n",
    "            # go thru the genes and find if the transcript belongs to the gene\n",
    "            if data_tr[j] in gene_dict[gene].keys():\n",
    "                # found a transcript in the gene; \n",
    "                # adding the counts to the respective exon start/end pos\n",
    "                # meanwhile summing up the counts to normalise afterwards\n",
    "                # ind1, ind2 based on global start/end; samples i j shouldn't be a string!\n",
    "                # labels[i,j] <- \n",
    "                # gene_dict[key][all_transcripts[j]]['starts'/'ends'] - \n",
    "                # - global_start / global_end\n",
    "                if gene in library_AML[sN].keys():\n",
    "                    # if gene is alrd there just add\n",
    "                    # labels but not only for one index, for a set of indices\n",
    "                    for s in gene_dict[gene][data_tr[j]]['starts']:\n",
    "                        gs = int(gene_dict[gene]['global_start'])\n",
    "                        # int(s)-gs is an array index\n",
    "                        library_AML[sN][gene]['alabels'][int(s)-gs] += float(samples[i][j])\n",
    "                    for s in gene_dict[gene][data_tr[j]]['ends']:\n",
    "                        ge = int(gene_dict[gene]['global_end'])\n",
    "                        # int(s)-gs is an array index\n",
    "                        library_AML[sN][gene]['dlabels'][int(s)-ge] += float(samples[i][j])\n",
    "                    library_AML[sN][gene]['norm_factor'] += samples[i][j]\n",
    "                else:\n",
    "                    # if gene is not there yet create\n",
    "                    library_AML[sN][gene] = {}\n",
    "                    length = int(gene_dict[gene]['global_end']) - int(gene_dict[gene]['global_start']))\n",
    "                    library_AML[sN]['alabels'] = np.zeros(length)\n",
    "                    library_AML[sN]['dlabels'] = np.zeros(length)\n",
    "                    for s in gene_dict[gene][data_tr[j]]['starts']:\n",
    "                        gs = int(gene_dict[gene]['global_start'])\n",
    "                        # int(s)-gs is an array index\n",
    "                        library_AML[sN][gene]['alabels'][int(s)-gs] += float(samples[i][j])\n",
    "                    for s in gene_dict[gene][data_tr[j]]['ends']:\n",
    "                        ge = int(gene_dict[gene]['global_end'])\n",
    "                        # int(s)-gs is an array index\n",
    "                        library_AML[sN][gene]['dlabels'][int(s)-ge] += float(samples[i][j])\n",
    "                    library_AML[sN][gene]['norm_factor'] += samples[i][j]\n",
    "                \n",
    "                "
   ]
  },
  {
   "cell_type": "code",
   "execution_count": 5,
   "metadata": {},
   "outputs": [
    {
     "data": {
      "text/plain": [
       "50"
      ]
     },
     "execution_count": 5,
     "metadata": {},
     "output_type": "execute_result"
    }
   ],
   "source": [
    "handle = open('./data/DE_AML_transcripts', \"w\")\n",
    "records = []\n",
    "\n",
    "for i in range(len(transcripts)):\n",
    "    try:\n",
    "        records.append(SeqRecord(Seq(str(transcripts[i]), generic_dna), DE_tr_[i]))\n",
    "    except TypeError:\n",
    "        print(i)\n",
    "        print(transcripts[i])\n",
    "\n",
    "SeqIO.write(records, handle, \"fasta\")"
   ]
  },
  {
   "cell_type": "code",
   "execution_count": null,
   "metadata": {},
   "outputs": [],
   "source": []
  }
 ],
 "metadata": {
  "kernelspec": {
   "display_name": "Python 3",
   "language": "python",
   "name": "python3"
  },
  "language_info": {
   "codemirror_mode": {
    "name": "ipython",
    "version": 3
   },
   "file_extension": ".py",
   "mimetype": "text/x-python",
   "name": "python",
   "nbconvert_exporter": "python",
   "pygments_lexer": "ipython3",
   "version": "3.7.6"
  }
 },
 "nbformat": 4,
 "nbformat_minor": 4
}
