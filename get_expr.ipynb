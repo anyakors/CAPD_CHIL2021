{
 "cells": [
  {
   "cell_type": "code",
   "execution_count": 2,
   "metadata": {},
   "outputs": [],
   "source": [
    "import h5py\n",
    "import numpy as np"
   ]
  },
  {
   "cell_type": "code",
   "execution_count": 4,
   "metadata": {},
   "outputs": [
    {
     "name": "stdout",
     "output_type": "stream",
     "text": [
      "No of sources: 238522\n",
      "No of transcripts: 178136\n"
     ]
    }
   ],
   "source": [
    "# link for file download: \n",
    "# javascript:downloadFile('https://s3.amazonaws.com/mssm-seq-matrix/human_transcript_v8.h5','human_transcript.h5','8')\n",
    "f = h5py.File('./data/human_transcript_v8.h5', 'r')\n",
    "\n",
    "# list of all sample sources\n",
    "all_sources = list(f['meta']['Sample_source_name_ch1'][()])\n",
    "# list of all transcript names\n",
    "all_transcripts = list(f['meta']['transcripts'][()])\n",
    "\n",
    "print('No of sources: {}'.format(len(all_sources)))\n",
    "print('No of transcripts: {}'.format(len(all_transcripts)))"
   ]
  },
  {
   "cell_type": "code",
   "execution_count": 6,
   "metadata": {},
   "outputs": [
    {
     "name": "stdout",
     "output_type": "stream",
     "text": [
      "Sources with \"AML\": 678\n"
     ]
    }
   ],
   "source": [
    "# find indices of samples with \"AML\" in their source names\n",
    "ind_ = []\n",
    "\n",
    "for k in range(len(all_sources)):\n",
    "    if 'AML' in all_sources[k].decode('utf-8'):\n",
    "        ind_.append(k)        \n",
    "\n",
    "print('Sources with \"AML\": {}'.format(len(ind_)))"
   ]
  },
  {
   "cell_type": "code",
   "execution_count": 7,
   "metadata": {},
   "outputs": [
    {
     "name": "stdout",
     "output_type": "stream",
     "text": [
      "(678, 178136)\n"
     ]
    }
   ],
   "source": [
    "# create a table with all the sample expression arrays: \n",
    "# rows - samples, cols - transcripts, elements - No of reads, not normalised\n",
    "AML_expr = []\n",
    "\n",
    "for i in ind_:\n",
    "    AML_expr.append(list(f['data']['expression'][i]))\n",
    "    \n",
    "AML_expr = np.array(AML_expr)\n",
    "print(np.shape(AML_expr))\n",
    "\n",
    "#np.savetxt('./data/AML_expr', AML_expr, fmt='%i', delimiter='\\t')"
   ]
  },
  {
   "cell_type": "code",
   "execution_count": 8,
   "metadata": {},
   "outputs": [
    {
     "name": "stdout",
     "output_type": "stream",
     "text": [
      "Unique transcript set: 3186\n"
     ]
    }
   ],
   "source": [
    "# select the most 100 covered transcripts from every sample and put them in one list\n",
    "most_common = []\n",
    "\n",
    "for sample in AML_expr:\n",
    "    ind = np.argsort(sample, axis=-1)[-100:]\n",
    "    for i in ind:\n",
    "        most_common.append(all_transcripts[i].decode('utf-8'))\n",
    "\n",
    "most_common_set = set(most_common)\n",
    "print('Unique transcript set: {}'.format(len(most_common_set)))\n",
    "\n",
    "#np.savetxt('./lists/most_common_transcripts_AML', np.array(list(most_common_set)), fmt='%s', delimiter='\\t')"
   ]
  },
  {
   "cell_type": "code",
   "execution_count": 9,
   "metadata": {},
   "outputs": [
    {
     "name": "stdout",
     "output_type": "stream",
     "text": [
      "Unique gene set: 2198, transcript-gene pairs not found in GENCODEv34 comprehensive: 131\n"
     ]
    }
   ],
   "source": [
    "# find respective gene names from GENCODE v34 comprehensive, hg38 edition\n",
    "\n",
    "comprehensive = np.genfromtxt('./data/GENCODE_v34_hg38_comprehensive', usecols=(1, 12), dtype='str')\n",
    "\n",
    "most_common_genes = []\n",
    "nf = []\n",
    "\n",
    "for tr in most_common_set:\n",
    "    for row in comprehensive:\n",
    "        if tr[:15] in row[0]:\n",
    "            most_common_genes.append(row[1])\n",
    "            break\n",
    "        if row[0]==comprehensive[-1][0]:\n",
    "            nf.append(tr)    \n",
    "            \n",
    "most_common_genes = set(most_common_genes)\n",
    "print('Unique gene set: {}, transcript-gene pairs not found in GENCODEv34 comprehensive: {}'\n",
    "      .format(len(most_common_genes), len(nf)))\n",
    "\n",
    "#np.savetxt('./lists/most_common_genes_AML', np.array(list(most_common_genes)), fmt='%s', delimiter='\\t')"
   ]
  },
  {
   "cell_type": "code",
   "execution_count": 11,
   "metadata": {},
   "outputs": [
    {
     "name": "stdout",
     "output_type": "stream",
     "text": [
      "For ClinSEQ AML gene set 17 out of 23 are in the most_common list\n",
      "For TCGA-AML gene set 186 out of 716 are in the most_common list\n",
      "For TCGA-AML + ClinSEQ gene set 80 out of 222 are in the most_common list\n"
     ]
    }
   ],
   "source": [
    "genes_AML_23 = np.loadtxt('./lists/clinSEQ_AML_23', dtype='str', delimiter='\\t')\n",
    "genes_AML_716 = np.loadtxt('./lists/TCGA-AML_AS_716', dtype='str', delimiter='\\t')\n",
    "genes_AML_222 = np.loadtxt('./lists/TCGA-AML_clinSEQ_AS_common_222', dtype='str', delimiter='\\t')\n",
    "\n",
    "i = 0\n",
    "for gene in genes_AML_23:\n",
    "    if gene in most_common_genes:\n",
    "        i += 1\n",
    "print('For ClinSEQ AML gene set {} out of {} are in the most_common list'\n",
    "     .format(i, len(genes_AML_23)))\n",
    "\n",
    "i = 0\n",
    "for gene in genes_AML_716:\n",
    "    if gene in most_common_genes:\n",
    "        i += 1\n",
    "print('For TCGA-AML gene set {} out of {} are in the most_common list'\n",
    "     .format(i, len(genes_AML_716)))\n",
    "\n",
    "i = 0\n",
    "for gene in genes_AML_222:\n",
    "    if gene in most_common_genes:\n",
    "        i += 1\n",
    "print('For TCGA-AML + ClinSEQ gene set {} out of {} are in the most_common list'\n",
    "     .format(i, len(genes_AML_222)))"
   ]
  },
  {
   "cell_type": "code",
   "execution_count": null,
   "metadata": {},
   "outputs": [],
   "source": []
  }
 ],
 "metadata": {
  "kernelspec": {
   "display_name": "Python 3",
   "language": "python",
   "name": "python3"
  },
  "language_info": {
   "codemirror_mode": {
    "name": "ipython",
    "version": 3
   },
   "file_extension": ".py",
   "mimetype": "text/x-python",
   "name": "python",
   "nbconvert_exporter": "python",
   "pygments_lexer": "ipython3",
   "version": "3.7.6"
  }
 },
 "nbformat": 4,
 "nbformat_minor": 4
}
